{
  "nbformat": 4,
  "nbformat_minor": 0,
  "metadata": {
    "colab": {
      "name": "Pham A2.ipynb",
      "provenance": [],
      "collapsed_sections": [],
      "toc_visible": true,
      "include_colab_link": true
    },
    "kernelspec": {
      "name": "python3",
      "display_name": "Python 3"
    }
  },
  "cells": [
    {
      "cell_type": "markdown",
      "metadata": {
        "id": "view-in-github",
        "colab_type": "text"
      },
      "source": [
        "<a href=\"https://colab.research.google.com/github/pham-andrew/MachineLearningIntroExercise/blob/main/MachineLearningIntroExercise.ipynb\" target=\"_parent\"><img src=\"https://colab.research.google.com/assets/colab-badge.svg\" alt=\"Open In Colab\"/></a>"
      ]
    },
    {
      "cell_type": "code",
      "metadata": {
        "id": "99ejDDBE0er8"
      },
      "source": [
        "import numpy as np\n",
        "import torch"
      ],
      "execution_count": null,
      "outputs": []
    },
    {
      "cell_type": "markdown",
      "metadata": {
        "id": "Y2bparoq0k2r"
      },
      "source": [
        "## The goal of this assignment is to develop the following:\n",
        "\n",
        "\n",
        "\n",
        "*   Familiarity with the overarching ideas of deep learning architectures\n",
        "*   Understanding of the low-level details of tensor manipulation and applying gradients in the Pytorch environment\n",
        "*   Ability to create a neural network architecture using the Sequential container in PyTorch\n",
        "*   Ability to access basic properties of pretrained networks such as Inception v3, AlexNet,\n",
        "etc.\n",
        "*  Understanding the scaling of various resources such as training time and data storage as a function of network size and type.\n",
        "\n",
        "For this assignment, you should submit a colab notebook with your answers. Please use Python v3, not v2. For the free response parts of those questions, you should answer them as comments in your jupyter notebook code.\n",
        "\n",
        "Questions marked as (grad) are required for grad credits, while questions marked as (optional) are fully optional and will give no extra credit.  \n"
      ]
    },
    {
      "cell_type": "markdown",
      "metadata": {
        "id": "pxarSL561TD4"
      },
      "source": [
        "## Question 1: Network Architectures\n",
        "### For each of the following neural network architectures, provide two examples where that architecture would be useful. Also briefly (1-2 sentences) explain why. \n",
        "\n",
        "\n",
        "\n",
        "1.   Multilayer Perceptron:\n",
        "\n",
        "Two Examples:\n",
        "MLPs are considered vanilla neural networks because they are one of the less complex models used, having an input layer, hidden layer, and output layer. Originally they were used in **binary classification** to determine if an input was part of a category and now this model helps us with complex tasks such as **optimizing fitness approximations**. The perceptron itself is a linear classifier and it produces a single output using linear combination of weights; thus, a multi layer perceptron can solve binary classification problem with ease since it actually only takes one layer to produce a linear output. A MLP is well equiped to solve nonlinear, stochastic, problems. Since the fitness apprixmation  in evolutionary computation is complex, it is better approximated with a nonlinear solution and better solved with a stochastic method.\n",
        "\n",
        "2.   Convolutional Neural Network (CNN):\n",
        "\n",
        "Convolutional neural networks are regularized MLPs. They are espeically strong at **image classification** and **natural language processing**. CNNs are able to take the complex patterns of MLPs and break them down into simplier patterns. For example, smaller sections of pixels in an image or multiple patterns of sentence strucutre.\n",
        "\n",
        "3.   Recurrent Neural Network (RNN):\n",
        "\n",
        "RNNs are directed graphics exhitibing temporal dynamic behavior. Applications of RNNs include **handwriting recognition** and **speech recognition**. An RNN is well suited to these tasks because they are strong at processing sequences of inputs. This is in part because of their use of gated memory allowing for feedback of sequences of data which will be explained next.\n",
        "\n",
        "4.   Long Short-Term Memory Network (LSTM):\n",
        "\n",
        "LSTMs are arguably the most broadly applicable network described so far, using techniques from all of the prior. Bloomberg Business reports applications as broad as \"**predicting diseases** to **composing music**\". This is because LSTMs can classify and make predictions on time series data, account for lags between events. They also help with the exploding and vanishing gradient problems we will describe later.\n",
        "\n",
        "5.   (Grad) Generative adversarial network (GAN):\n",
        "\n",
        "GANs are a class of machine learning where two neural networks contest eachother given a training set. This has proven to be exceptionally strong at generating realistic photographs. For this reason GANs have been used in applications like fashion and advertising to **generate photographs** of the product in studio quality and in videogames to **upscale 2d textures** to higher resolutions.\n",
        "\n",
        "6.   (Optional) Think about the relationship between Hopfield Networks and RNNs? How did Hopfield network arise, and later influence the modern theory of machine learning?\n",
        "\n",
        "\n",
        "\n",
        "\n"
      ]
    },
    {
      "cell_type": "markdown",
      "metadata": {
        "id": "19Ju5fqZ2e2t"
      },
      "source": [
        "## Question 2: ML Basics\n",
        "\n",
        "1.    Draw a picture of what a gradient descent algorithm would look like for a function of one variable, say f(x) = x^2. Attach a picture of that sketch below: \n",
        "\n",
        " ![Image](https://imgur.com/xOJ4tK0.png)\n",
        "\n",
        "\n",
        "2.    What is a saddle point? Draw a sketch of one and attach a picture of that sketch below: \n",
        "\n",
        " ![Image](https://imgur.com/wM597Db.png)\n",
        "\n",
        "3.    What is minibatch size? What are the advantages/disadvantages of using a larger vs smaller minibatch size? Think about this from a systems perspective.\n",
        "\n",
        "Minibatch sizes are a parameter in minibatch gradient descent which splits the training data into batches used to calculate error and update models. The minibatch size is the size of said batch of training data. The actual size of the batch is often related to the computation architecture of the memory requirements such as 32, 64, 128, etc. Small minibatches reduces training time at the cost of noise. Large minibatches have accurate estimates at the cost of training time.\n",
        "\n",
        "4.     (Grad) Explain vanishing/exploding gradients. When does this occur and why.\n",
        "\n",
        "Vanishing/exploding gradients are a common problem when we are trying to minimize loss on a graph. In the case of vanishing gradient, let's assume that the cost is very small. Once the gradient is calculated in respect to weight, the weight is updated proportionally to the gradient, which in this case is a very small update. More specifically, the gradient of a backpropagated weight is the product of derivatives from later in the network. If all of the products are less than one, we will have a very small number. Since this update is small, it's not going to help us reduce loss because it didn't update enough to get close to its optimal value. This impairs the entire network's ability to learn downstream of that weight. The opposite problem, exploding gradient, is when the product of back propogated weights is larger than 1, updating the weights too much and overshooting the optimal value of the weight.\n",
        "\n",
        "5.     (Grad) Give a prescription for handling vanishing/exploding gradients. Why, naively, should this work?\n",
        "\n",
        "We can use a different activation function such as ReLU that only saturates in one direction but the technique we talked more about in class was **long short-term memory**. Network activates in this model correspond to short term memory while weights corresponded to long term memory. Activations preserving information over long periods makes them \"long term, short term, memory\". The cells selectively update values and forget others using a input, output, and forget gates. LSTMs propagate an error signal referred to as a constant error or linear carousel that prevents the vanishing of gradient through many time steps, \"remembering\" when seeing vanishing gradient or \"forgetting\" when encountering exploding gradient."
      ]
    },
    {
      "cell_type": "markdown",
      "metadata": {
        "id": "dAg_YNIU4oKP"
      },
      "source": [
        "## Question 3: Getting Familiar with NumPy"
      ]
    },
    {
      "cell_type": "code",
      "metadata": {
        "id": "XySOulWI4ikc",
        "outputId": "fb8dff94-5add-49cd-9092-b36f0abce3e1",
        "colab": {
          "base_uri": "https://localhost:8080/",
          "height": 34
        }
      },
      "source": [
        "# 1. Create a variable A that is equal to 2 x 3 matrix of zeroes of type Float32.\n",
        "# Set the entry (1, 2) to be 3.14 and the entry (0, 1) to be 5.0.\n",
        "\n",
        "import numpy as np\n",
        "\n",
        "a=np.float32=[[0,0,0],\n",
        "              [0,0,0]]\n",
        "\n",
        "a[1][2]=2.14\n",
        "a[0][1]=5.0\n",
        "\n",
        "print(a)"
      ],
      "execution_count": null,
      "outputs": [
        {
          "output_type": "stream",
          "text": [
            "[[0, 5.0, 0], [0, 0, 2.14]]\n"
          ],
          "name": "stdout"
        }
      ]
    },
    {
      "cell_type": "code",
      "metadata": {
        "id": "5Ah2Q2kc416M",
        "outputId": "96599609-f46d-4532-8193-8754417abdcc",
        "colab": {
          "base_uri": "https://localhost:8080/",
          "height": 68
        }
      },
      "source": [
        "# 2. Create a variable B that is the transpose (rows and columns are swapped) of the above matrix.\n",
        "\n",
        "b=np.transpose(a)\n",
        "print(b)"
      ],
      "execution_count": null,
      "outputs": [
        {
          "output_type": "stream",
          "text": [
            "[[0.   0.  ]\n",
            " [5.   0.  ]\n",
            " [0.   2.14]]\n"
          ],
          "name": "stdout"
        }
      ]
    },
    {
      "cell_type": "code",
      "metadata": {
        "id": "ZK1yBByA44kn",
        "outputId": "ff1ffa04-4717-4e94-d922-7cee5bab4305",
        "colab": {
          "base_uri": "https://localhost:8080/",
          "height": 306
        }
      },
      "source": [
        "# 3. Create an array x of 100 points linearly spaced in the interval [-5, 5]\n",
        "\n",
        "x = np.linspace(-5,5,100)\n",
        "print(x)"
      ],
      "execution_count": null,
      "outputs": [
        {
          "output_type": "stream",
          "text": [
            "[-5.         -4.8989899  -4.7979798  -4.6969697  -4.5959596  -4.49494949\n",
            " -4.39393939 -4.29292929 -4.19191919 -4.09090909 -3.98989899 -3.88888889\n",
            " -3.78787879 -3.68686869 -3.58585859 -3.48484848 -3.38383838 -3.28282828\n",
            " -3.18181818 -3.08080808 -2.97979798 -2.87878788 -2.77777778 -2.67676768\n",
            " -2.57575758 -2.47474747 -2.37373737 -2.27272727 -2.17171717 -2.07070707\n",
            " -1.96969697 -1.86868687 -1.76767677 -1.66666667 -1.56565657 -1.46464646\n",
            " -1.36363636 -1.26262626 -1.16161616 -1.06060606 -0.95959596 -0.85858586\n",
            " -0.75757576 -0.65656566 -0.55555556 -0.45454545 -0.35353535 -0.25252525\n",
            " -0.15151515 -0.05050505  0.05050505  0.15151515  0.25252525  0.35353535\n",
            "  0.45454545  0.55555556  0.65656566  0.75757576  0.85858586  0.95959596\n",
            "  1.06060606  1.16161616  1.26262626  1.36363636  1.46464646  1.56565657\n",
            "  1.66666667  1.76767677  1.86868687  1.96969697  2.07070707  2.17171717\n",
            "  2.27272727  2.37373737  2.47474747  2.57575758  2.67676768  2.77777778\n",
            "  2.87878788  2.97979798  3.08080808  3.18181818  3.28282828  3.38383838\n",
            "  3.48484848  3.58585859  3.68686869  3.78787879  3.88888889  3.98989899\n",
            "  4.09090909  4.19191919  4.29292929  4.39393939  4.49494949  4.5959596\n",
            "  4.6969697   4.7979798   4.8989899   5.        ]\n"
          ],
          "name": "stdout"
        }
      ]
    },
    {
      "cell_type": "code",
      "metadata": {
        "id": "nXZKUbsW47wQ",
        "outputId": "a0dd1927-dec4-4073-8b26-9fe4c9a0d54d",
        "colab": {
          "base_uri": "https://localhost:8080/",
          "height": 286
        }
      },
      "source": [
        "# 4. Apply the function f(x) = 0.1 * x**4 + 2.0 * x**2 to the array of the previous problem. \n",
        "# Using a plotting package of your choice (e.g. matplot lib) \n",
        "# plot y as a function of the points x.\n",
        "\n",
        "import matplotlib.pyplot as plt\n",
        "\n",
        "def fx(x):\n",
        "  return(0.1 * x**4 + 2.0 * x**2)\n",
        "x=fx(x)\n",
        "plt.plot(x)"
      ],
      "execution_count": null,
      "outputs": [
        {
          "output_type": "execute_result",
          "data": {
            "text/plain": [
              "[<matplotlib.lines.Line2D at 0x7fece7d0d080>]"
            ]
          },
          "metadata": {
            "tags": []
          },
          "execution_count": 4
        },
        {
          "output_type": "display_data",
          "data": {
            "image/png": "[encoded data removed]",
            "text/plain": [
              "<Figure size 432x288 with 1 Axes>"
            ]
          },
          "metadata": {
            "tags": []
          }
        }
      ]
    },
    {
      "cell_type": "code",
      "metadata": {
        "id": "J_MU0D7c5EmP",
        "outputId": "c9bbef5b-cb77-4228-9636-7db28deda308",
        "colab": {
          "base_uri": "https://localhost:8080/",
          "height": 286
        }
      },
      "source": [
        "# 5. Do the same, but this time with an array x of points that are \n",
        "# UNIFORMLY SAMPLED from the interval [-5,5]. \n",
        "# Apply the same f as above and plot this. \n",
        "# (make sure to sort x first so your plot makes sense!)\n",
        "\n",
        "plt.plot(fx(np.sort(np.random.uniform(-5,5,100))))"
      ],
      "execution_count": null,
      "outputs": [
        {
          "output_type": "execute_result",
          "data": {
            "text/plain": [
              "[<matplotlib.lines.Line2D at 0x7fece549b240>]"
            ]
          },
          "metadata": {
            "tags": []
          },
          "execution_count": 5
        },
        {
          "output_type": "display_data",
          "data": {
            "image/png": "[encoded data removed]",
            "text/plain": [
              "<Figure size 432x288 with 1 Axes>"
            ]
          },
          "metadata": {
            "tags": []
          }
        }
      ]
    },
    {
      "cell_type": "code",
      "metadata": {
        "id": "boCNaOzo5NLZ",
        "outputId": "a7f33c14-0a12-42ab-fdb4-01523d7bf664",
        "colab": {
          "base_uri": "https://localhost:8080/",
          "height": 286
        }
      },
      "source": [
        "# 6. Create an array of 100 points sampled from a normal distribution of mean 0 \n",
        "# and standard deviation σ = 2.5. \n",
        "y = np.random.normal(0,2.5,100)\n",
        "\n",
        "# Add this array to the array in the previous problem that corresponded to f(x). \n",
        "y += x\n",
        "\n",
        "# Plot the new set of points against x.\n",
        "plt.plot(y)"
      ],
      "execution_count": null,
      "outputs": [
        {
          "output_type": "execute_result",
          "data": {
            "text/plain": [
              "[<matplotlib.lines.Line2D at 0x7fece53fa550>]"
            ]
          },
          "metadata": {
            "tags": []
          },
          "execution_count": 6
        },
        {
          "output_type": "display_data",
          "data": {
            "image/png": "[encoded data removed]",
            "text/plain": [
              "<Figure size 432x288 with 1 Axes>"
            ]
          },
          "metadata": {
            "tags": []
          }
        }
      ]
    },
    {
      "cell_type": "code",
      "metadata": {
        "id": "S7QrRGhs5eqU",
        "outputId": "f2021a89-d473-46b7-9d29-be029909fdf8",
        "colab": {
          "base_uri": "https://localhost:8080/",
          "height": 286
        }
      },
      "source": [
        "# 7. Using the polyfit function of NumPy, give the polynomial of best fit \n",
        "# of degree 1, 2, 4 and 10 and plot them on top of the data. \n",
        "\n",
        "r=np.array(range(1,101))\n",
        "p=np.poly1d(np.polyfit(r,y,1))\n",
        "p2=np.poly1d(np.polyfit(r,y,2))\n",
        "p4=np.poly1d(np.polyfit(r,y,4))\n",
        "p10=np.poly1d(np.polyfit(r,y,10))\n",
        "plt.plot(y)\n",
        "plt.plot(r,p(r))\n",
        "plt.plot(r,p2(r))\n",
        "plt.plot(r,p4(r))\n",
        "plt.plot(r,p10(r))\n",
        "\n",
        "# In a couple of lines of comments, discuss the occurrence of under/overfitting.\n",
        "# Underfitting using too few degrees results in a line like the orange one where we are poorly approximating the curve. Even the green one is a bit off.\n",
        "# Overfitting is where the model follows every point too perfectly and while it may predict our training data perfectly, it will be off for test data"
      ],
      "execution_count": null,
      "outputs": [
        {
          "output_type": "execute_result",
          "data": {
            "text/plain": [
              "[<matplotlib.lines.Line2D at 0x7fece53def60>]"
            ]
          },
          "metadata": {
            "tags": []
          },
          "execution_count": 7
        },
        {
          "output_type": "display_data",
          "data": {
            "image/png": "[encoded data removed]",
            "text/plain": [
              "<Figure size 432x288 with 1 Axes>"
            ]
          },
          "metadata": {
            "tags": []
          }
        }
      ]
    },
    {
      "cell_type": "code",
      "metadata": {
        "id": "1NFDQSyF5lR1"
      },
      "source": [
        "# 8. (Grad) Using concepts from linear algebra, explain how polyfit works \n",
        "# at least in the case of linear regression.\n",
        "\n",
        "# Polyfit gits a polynomial of a parameter degree to points x,y and\n",
        "# returns a vector of coefficient p that minimises squared error.\n",
        "# Mechanically, the function applys weighting and scales the left hand\n",
        "# side to improve the condition number and solves for scale coefficients.\n",
        "# Using higher degrees of polynomial equations, the curve fits to said\n",
        "# degree of points. Using polynomial interpolation, it uses the lowest\n",
        "# possible degree that passes through the poitns of the dataset."
      ],
      "execution_count": null,
      "outputs": []
    },
    {
      "cell_type": "markdown",
      "metadata": {
        "id": "_p762hge5r2B"
      },
      "source": [
        "## Question 4: PyTorch Basics"
      ]
    },
    {
      "cell_type": "code",
      "metadata": {
        "id": "YOQIUQWZ6OGu",
        "outputId": "2c071116-17e7-4c69-c0fa-d93356b15652",
        "colab": {
          "base_uri": "https://localhost:8080/",
          "height": 51
        }
      },
      "source": [
        "# 1. First, create and print a torch.tensor object of the vector [.215,3,5.2]. \n",
        "\n",
        "import torch\n",
        "\n",
        "t = torch.tensor([.215,3,5.2])\n",
        "print(t)\n",
        "\n",
        "# Now make it a numpy array first and then make it into a torch.tensor. \n",
        "\n",
        "t1 = np.array([.215,3,5.2])\n",
        "torch.tensor(t1)\n",
        "print(t1)\n",
        "\n",
        "# Print that. Comment what you notice changes.\n",
        "# It truncates the zeros off the end of the numbers and specifies dtype"
      ],
      "execution_count": null,
      "outputs": [
        {
          "output_type": "stream",
          "text": [
            "tensor([0.2150, 3.0000, 5.2000])\n",
            "[0.215 3.    5.2  ]\n"
          ],
          "name": "stdout"
        }
      ]
    },
    {
      "cell_type": "code",
      "metadata": {
        "id": "T9KxjXNk6R9W",
        "outputId": "837f8db2-ecc0-45d9-efb8-70ff2cb2fee3",
        "colab": {
          "base_uri": "https://localhost:8080/",
          "height": 34
        }
      },
      "source": [
        "# 2. Do this again for any 2 x 3 matrix.\n",
        "\n",
        "t2=np.array=[[.215,3,5.2],\n",
        "             [.215,3,5.2]]\n",
        "\n",
        "torch.tensor(t2)\n",
        "t2\n",
        "\n",
        "# What happens if you don’t specify floats?\n",
        "# ... nothing? TODO FIGURE THIS OUT"
      ],
      "execution_count": null,
      "outputs": [
        {
          "output_type": "execute_result",
          "data": {
            "text/plain": [
              "[[0.215, 3, 5.2], [0.215, 3, 5.2]]"
            ]
          },
          "metadata": {
            "tags": []
          },
          "execution_count": 10
        }
      ]
    },
    {
      "cell_type": "code",
      "metadata": {
        "id": "gOmLD0-16X4T",
        "outputId": "dc522be3-600d-488d-b5d4-4ffbbe57eeab",
        "colab": {
          "base_uri": "https://localhost:8080/",
          "height": 102
        }
      },
      "source": [
        "# 3. Now make a 2 x 2 x 2 matrix in python and turn this into a torch.tensor, \n",
        "# named T .\n",
        "# The numbers in this tensor are labelled by 3 indices. \n",
        "# A tensor is any object (vector, matrix, etc.) with numbers labelled by \n",
        "# some number of N indices. \n",
        "# The indices label the different dimensions of that tensor.\n",
        "\n",
        "T = [[[1., 2.], [3., 4.]],\n",
        "    [[5., 6.], [7., 8.]]]\n",
        "T = torch.tensor(T)\n",
        "T"
      ],
      "execution_count": null,
      "outputs": [
        {
          "output_type": "execute_result",
          "data": {
            "text/plain": [
              "tensor([[[1., 2.],\n",
              "         [3., 4.]],\n",
              "\n",
              "        [[5., 6.],\n",
              "         [7., 8.]]])"
            ]
          },
          "metadata": {
            "tags": []
          },
          "execution_count": 29
        }
      ]
    },
    {
      "cell_type": "code",
      "metadata": {
        "id": "d_qAfcJP6hOZ",
        "outputId": "1c74f6c1-a37a-47d6-ecc8-70e5a5bf0eda",
        "colab": {
          "base_uri": "https://localhost:8080/",
          "height": 34
        }
      },
      "source": [
        "# 4. Using the item() function, extract the value T at (0, 1, 1)\n",
        "\n",
        "x = T[0][1][1]\n",
        "x.item()"
      ],
      "execution_count": null,
      "outputs": [
        {
          "output_type": "execute_result",
          "data": {
            "text/plain": [
              "4.0"
            ]
          },
          "metadata": {
            "tags": []
          },
          "execution_count": 27
        }
      ]
    },
    {
      "cell_type": "code",
      "metadata": {
        "id": "Subt07tF6j3U",
        "outputId": "9a047453-b3f1-4e9b-bd09-f4583b777ee1",
        "colab": {
          "base_uri": "https://localhost:8080/",
          "height": 289
        }
      },
      "source": [
        "# 5. From T , extract the sub-tensor of entries with first index equal to zero.\n",
        "for i in range(2):\n",
        "  for j in range(2):\n",
        "    print(T[0][i][j].item())\n",
        "print('\\n')\n",
        "    \n",
        "# Now extract the sub-tensor of T with the second index equal to zero.\n",
        "for i in range(2):\n",
        "  for j in range(2):\n",
        "    print(T[i][0][j].item())\n",
        "print('\\n')\n",
        "    \n",
        "# Finally, the sub-tensor of T with the third index equal to 1. \n",
        "\n",
        "for i in range(2):\n",
        "  for j in range(2):\n",
        "    print(T[i][j][1].item())\n",
        "\n",
        "# Note that numpy indexing convention works in PyTorch too\n",
        "\n",
        "\n"
      ],
      "execution_count": null,
      "outputs": [
        {
          "output_type": "stream",
          "text": [
            "1.0\n",
            "2.0\n",
            "3.0\n",
            "4.0\n",
            "\n",
            "\n",
            "1.0\n",
            "2.0\n",
            "5.0\n",
            "6.0\n",
            "\n",
            "\n",
            "2.0\n",
            "4.0\n",
            "6.0\n",
            "8.0\n"
          ],
          "name": "stdout"
        }
      ]
    },
    {
      "cell_type": "code",
      "metadata": {
        "id": "0fKr3cOO6ufD",
        "outputId": "15c69e3f-2804-4b5b-9c5d-0adc36f9d9e4",
        "colab": {
          "base_uri": "https://localhost:8080/",
          "height": 102
        }
      },
      "source": [
        "# 6. Convert T back into a 2 x 2 x 2 numpy array.\n",
        "T = T.numpy()\n",
        "T"
      ],
      "execution_count": null,
      "outputs": [
        {
          "output_type": "execute_result",
          "data": {
            "text/plain": [
              "array([[[1., 2.],\n",
              "        [3., 4.]],\n",
              "\n",
              "       [[5., 6.],\n",
              "        [7., 8.]]], dtype=float32)"
            ]
          },
          "metadata": {
            "tags": []
          },
          "execution_count": 42
        }
      ]
    },
    {
      "cell_type": "code",
      "metadata": {
        "id": "2Rvu1ieY6xEZ",
        "outputId": "9f6240c2-231e-41aa-ffe7-388612a0b6f2",
        "colab": {
          "base_uri": "https://localhost:8080/",
          "height": 85
        }
      },
      "source": [
        "# 7. The size of a tensor is an array of the lengths of each of its dimensions. \n",
        "# Make a tensor of all zeros of dimension 5 x 8 x 2, with data type long. \n",
        "T1 = torch.tensor(np.zeros((5,8,2),np.int_))\n",
        "\n",
        "# Repeat this, but with random entries. \n",
        "tdata=np.random.rand(5,8,2)\n",
        "T2 = torch.tensor(tdata)\n",
        "\n",
        "# Confirm that this is its size by calling the size() function. \n",
        "print(tdata.size)\n",
        "print(T2.size)\n",
        "print(list(T2.size()))\n",
        "print(T.shape)\n",
        "\n",
        "# How long does it take to populate a tensor of d dimensions, each of length N. \n",
        "# It should take O(n^d) time to populate\n",
        "\n",
        "# (Grad) In a comment, elaborate how this can connect to the curse of dimensionality\n",
        "# As we can see, the complexity of adding another dimension exponentially increases\n",
        "# the volume of data. This causes the data itself to become sparce in high dimensional\n",
        "# systems. This sparcity is problematic for methods requiring statistical significance\n",
        "# since the amount of data needed to support the result is a small percentage of the\n",
        "# volume and the amount of data needed for it to be significant grows exponentially."
      ],
      "execution_count": null,
      "outputs": [
        {
          "output_type": "stream",
          "text": [
            "80\n",
            "<built-in method size of Tensor object at 0x7fec998268b8>\n",
            "[5, 8, 2]\n",
            "torch.Size([5, 8, 2])\n"
          ],
          "name": "stdout"
        }
      ]
    },
    {
      "cell_type": "code",
      "metadata": {
        "id": "J_2_NxOl67Xk",
        "outputId": "98b92688-f6d0-451f-e03b-68c2aba28788",
        "colab": {
          "base_uri": "https://localhost:8080/",
          "height": 102
        }
      },
      "source": [
        "# 8. Make two random tensors of the same size and add them.\n",
        "# Try the same with two tensors of different sizes.\n",
        "\n",
        "T1 = torch.tensor(np.random.rand(2))\n",
        "T2 = torch.tensor(np.random.rand(2))\n",
        "print(T1+T2)\n",
        "print('\\n')\n",
        "\n",
        "T1 = torch.tensor(np.random.rand(2,2))\n",
        "T2 = torch.tensor(np.random.rand(2))\n",
        "print(T1+T2)"
      ],
      "execution_count": null,
      "outputs": [
        {
          "output_type": "stream",
          "text": [
            "tensor([1.6239, 1.5771], dtype=torch.float64)\n",
            "\n",
            "\n",
            "tensor([[0.9098, 0.2297],\n",
            "        [0.8458, 0.7398]], dtype=torch.float64)\n"
          ],
          "name": "stdout"
        }
      ]
    },
    {
      "cell_type": "code",
      "metadata": {
        "id": "TWK_w7yf6-bA"
      },
      "source": [
        "# 9. Play around with the PyTorch tutorials on their website to get a bit \n",
        "# more familiar with the environment."
      ],
      "execution_count": null,
      "outputs": []
    },
    {
      "cell_type": "markdown",
      "metadata": {
        "id": "DRa5fRXx7KEL"
      },
      "source": [
        "## Question 5: PyTorch Gradients"
      ]
    },
    {
      "cell_type": "code",
      "metadata": {
        "id": "as_0yxX47KOW",
        "outputId": "02322d82-c016-46c3-d30e-08aba257765c",
        "colab": {
          "base_uri": "https://localhost:8080/",
          "height": 34
        }
      },
      "source": [
        "# 1. Create a random 3 x 3 tensor A. Make it so that autograd is on. \n",
        "import torch.autograd as autograd\n",
        "\n",
        "A = torch.tensor(np.random.rand(3,3,3))\n",
        "A.requires_grad_()\n",
        "\n",
        "# Using several intermediate tensors, create a new tensor, val, that is a scalar \n",
        "# with value equal to the mean of 3 (A^2 - 1)\n",
        "\n",
        "sum=0.0\n",
        "size=0\n",
        "\n",
        "for i in range(2):\n",
        "  for j in range(2):\n",
        "    for k in range(2):\n",
        "      sum+=3*(pow((A[i][j][k].item()),2)-1)\n",
        "      size+=1\n",
        "\n",
        "val = torch.tensor([sum/size])\n",
        "val\n"
      ],
      "execution_count": null,
      "outputs": [
        {
          "output_type": "execute_result",
          "data": {
            "text/plain": [
              "tensor([-1.7984])"
            ]
          },
          "metadata": {
            "tags": []
          },
          "execution_count": 96
        }
      ]
    },
    {
      "cell_type": "code",
      "metadata": {
        "id": "ZpuMk6287csA",
        "outputId": "70f126ab-6c91-4273-c1a8-5fb8b86b2da6",
        "colab": {
          "base_uri": "https://localhost:8080/",
          "height": 204
        }
      },
      "source": [
        "# 2. Apply the backward function to out. Then, print out A.grad(). \n",
        "# Using what you know from calculus, explain why it has these values.\n",
        "\n",
        "torch.autograd.backward(A,A)\n",
        "print(A.grad)"
      ],
      "execution_count": null,
      "outputs": [
        {
          "output_type": "stream",
          "text": [
            "tensor([[[1.3912, 2.4843, 1.7214],\n",
            "         [2.6069, 2.2968, 2.7041],\n",
            "         [2.6008, 0.5649, 1.8167]],\n",
            "\n",
            "        [[0.8979, 1.7003, 1.2384],\n",
            "         [1.3240, 1.7913, 2.1144],\n",
            "         [1.5086, 0.6061, 1.9905]],\n",
            "\n",
            "        [[1.0293, 2.3016, 1.2525],\n",
            "         [1.6336, 1.6201, 2.8781],\n",
            "         [2.8611, 2.2456, 2.4517]]], dtype=torch.float64)\n"
          ],
          "name": "stdout"
        }
      ]
    },
    {
      "cell_type": "markdown",
      "metadata": {
        "id": "P0R0-H1h76pH"
      },
      "source": [
        "## Question 6: MNIST Classifier\n",
        "\n",
        "### In this exercise you will build your own model for classifying the MNIST data set."
      ]
    },
    {
      "cell_type": "code",
      "metadata": {
        "id": "iZTwqK7U81QC"
      },
      "source": [
        "import torchvision\n",
        "from torchvision import datasets, transforms\n",
        "from torch import nn, optim\n",
        "import torch.nn.functional as F\n",
        "\n",
        "# 1. Create a deep neural network that classifies the MNIST data set using only 2 layers. \n",
        "# The image itself is an input of 28*28 = 784 floats\n",
        "# Make a network that takes this and inputs it into a linear feedforward layer\n",
        "# that consists of 1000 neurons\n",
        "# Then, let the output of that go into a second layer, consisting of 10 neurons,\n",
        "# Then, output the guess for which number it is (from 0-9) using the softmax\n",
        "# function on the output of the second layer\n",
        "\n",
        "# Use a ReLU activation function between layers.\n",
        "# You might find the example code here helpful:\n",
        "# https://github.com/pytorch/examples/tree/master/mnist\n",
        "\n",
        "\n",
        "class MNIST_classifier(nn.Module):\n",
        "    def __init__(self):\n",
        "        super(MNIST_classifier, self).__init__()\n",
        "        # Write the code defining the structure of the network here\n",
        "        self.layer1=nn.Linear(28*28, 1000)\n",
        "        self.layer2=nn.Linear(1000, 10)\n",
        "        self.relu=nn.ReLU()\n",
        "        \n",
        "    def forward(self, x):\n",
        "        # Define what a forward pass looks like here:\n",
        "        # Erase the 'pass' keyword and insert your own code.\n",
        "        x = images.view(-1,28*28)\n",
        "        x = self.relu(self.layer1(x))\n",
        "        x = self.layer2(x)\n",
        "        return F.log_softmax(x, dim=1)\n",
        "\n",
        "        # The backward() function is then defined for you autmatically via autograd\n",
        "        "
      ],
      "execution_count": null,
      "outputs": []
    },
    {
      "cell_type": "code",
      "metadata": {
        "id": "9rPFq45UAIjU",
        "outputId": "7bc9dfc8-fbd0-4c4d-a34e-980a6f8b60f7",
        "colab": {
          "base_uri": "https://localhost:8080/",
          "height": 1000
        }
      },
      "source": [
        "# 2. Make the train function for the network using the mnist data set\n",
        "\n",
        "# The training set is provided for you here: \n",
        "import torch\n",
        "from torch.autograd import Variable\n",
        "import time\n",
        "\n",
        "batch_size = 64\n",
        "n_epochs=1\n",
        "model = MNIST_classifier()\n",
        "cec_loss = nn.CrossEntropyLoss()\n",
        "params = model.parameters()\n",
        "optimizer = optim.SGD(params=params,lr=0.001)\n",
        "\n",
        "training_set = torch.utils.data.DataLoader(\n",
        "        datasets.MNIST('../data', train=True, download=True,\n",
        "                       transform=transforms.Compose([\n",
        "                           transforms.ToTensor(),\n",
        "                           transforms.Normalize((0.1307,), (0.3081,))\n",
        "                       ])),\n",
        "        batch_size=batch_size, shuffle=True)\n",
        "\n",
        "t0=time.time()\n",
        "for e in range(n_epochs):\n",
        "    for i,(images,labels) in enumerate(training_set):\n",
        "        images = Variable(images)\n",
        "        labels = Variable(labels)\n",
        "        output = model(images)\n",
        "        model.zero_grad()\n",
        "        loss = cec_loss(output,labels)\n",
        "        loss.backward()\n",
        "        optimizer.step()\n",
        "        print(loss.item())\n",
        "t1=time.time()\n",
        "trainingtime=t1-t0\n",
        "# Train the network using stochastic gradient descent and batch size 64.\n",
        "# Note: you do not need to write your own optimizer, simply use SGD from pytorch"
      ],
      "execution_count": null,
      "outputs": [
        {
          "output_type": "stream",
          "text": [
            "  0%|          | 16384/9912422 [00:00<01:11, 138888.95it/s]"
          ],
          "name": "stderr"
        },
        {
          "output_type": "stream",
          "text": [
            "Downloading http://yann.lecun.com/exdb/mnist/train-images-idx3-ubyte.gz to ../data/MNIST/raw/train-images-idx3-ubyte.gz\n"
          ],
          "name": "stdout"
        },
        {
          "output_type": "stream",
          "text": [
            "9920512it [00:00, 30889457.08it/s]                           \n"
          ],
          "name": "stderr"
        },
        {
          "output_type": "stream",
          "text": [
            "Extracting ../data/MNIST/raw/train-images-idx3-ubyte.gz\n"
          ],
          "name": "stdout"
        },
        {
          "output_type": "stream",
          "text": [
            "32768it [00:00, 432798.17it/s]\n",
            "0it [00:00, ?it/s]"
          ],
          "name": "stderr"
        },
        {
          "output_type": "stream",
          "text": [
            "Downloading http://yann.lecun.com/exdb/mnist/train-labels-idx1-ubyte.gz to ../data/MNIST/raw/train-labels-idx1-ubyte.gz\n",
            "Extracting ../data/MNIST/raw/train-labels-idx1-ubyte.gz\n",
            "Downloading http://yann.lecun.com/exdb/mnist/t10k-images-idx3-ubyte.gz to ../data/MNIST/raw/t10k-images-idx3-ubyte.gz\n"
          ],
          "name": "stdout"
        },
        {
          "output_type": "stream",
          "text": [
            "1654784it [00:00, 7257728.27it/s]                           \n",
            "8192it [00:00, 177937.54it/s]\n"
          ],
          "name": "stderr"
        },
        {
          "output_type": "stream",
          "text": [
            "Extracting ../data/MNIST/raw/t10k-images-idx3-ubyte.gz\n",
            "Downloading http://yann.lecun.com/exdb/mnist/t10k-labels-idx1-ubyte.gz to ../data/MNIST/raw/t10k-labels-idx1-ubyte.gz\n",
            "Extracting ../data/MNIST/raw/t10k-labels-idx1-ubyte.gz\n",
            "Processing...\n",
            "Done!\n",
            "2.3011951446533203\n",
            "2.2549197673797607\n",
            "2.2668416500091553\n",
            "2.2946689128875732\n",
            "2.2581191062927246\n",
            "2.2998902797698975\n",
            "2.323154926300049\n",
            "2.263850450515747\n",
            "2.2803518772125244\n",
            "2.257171154022217\n",
            "2.2583508491516113\n",
            "2.2380683422088623\n",
            "2.2428722381591797\n",
            "2.2097620964050293\n",
            "2.2077600955963135\n",
            "2.2024123668670654\n",
            "2.227782964706421\n",
            "2.2077293395996094\n",
            "2.2277543544769287\n",
            "2.2433996200561523\n",
            "2.2120678424835205\n",
            "2.1946959495544434\n",
            "2.2119455337524414\n",
            "2.2006287574768066\n",
            "2.1930441856384277\n",
            "2.227303981781006\n",
            "2.186800241470337\n",
            "2.215763568878174\n",
            "2.182677984237671\n",
            "2.213153123855591\n",
            "2.218003511428833\n",
            "2.192068099975586\n",
            "2.2060720920562744\n",
            "2.19384503364563\n",
            "2.1335301399230957\n",
            "2.1559488773345947\n",
            "2.1771345138549805\n",
            "2.1375784873962402\n",
            "2.1502153873443604\n",
            "2.1773900985717773\n",
            "2.157555103302002\n",
            "2.174555540084839\n",
            "2.1652746200561523\n",
            "2.1483306884765625\n",
            "2.1512632369995117\n",
            "2.1442806720733643\n",
            "2.151430130004883\n",
            "2.134493350982666\n",
            "2.1572487354278564\n",
            "2.144792079925537\n",
            "2.1216564178466797\n",
            "2.117521047592163\n",
            "2.143749475479126\n",
            "2.1284289360046387\n",
            "2.127573013305664\n",
            "2.1489005088806152\n",
            "2.1432933807373047\n",
            "2.1143417358398438\n",
            "2.103928327560425\n",
            "2.071908712387085\n",
            "2.148508310317993\n",
            "2.086890935897827\n",
            "2.1000380516052246\n",
            "2.106304407119751\n",
            "2.0499825477600098\n",
            "2.1207854747772217\n",
            "2.0846877098083496\n",
            "2.0330328941345215\n",
            "2.059678554534912\n",
            "2.056199073791504\n",
            "2.069929838180542\n",
            "2.1064209938049316\n",
            "2.11344575881958\n",
            "2.076383590698242\n",
            "2.0017006397247314\n",
            "2.0810647010803223\n",
            "2.0490493774414062\n",
            "2.103468656539917\n",
            "2.092090129852295\n",
            "2.0758063793182373\n",
            "1.99199378490448\n",
            "2.015246868133545\n",
            "2.047024726867676\n",
            "2.0287609100341797\n",
            "2.039323091506958\n",
            "2.0775468349456787\n",
            "2.020972728729248\n",
            "2.0363996028900146\n",
            "2.031712293624878\n",
            "2.0267436504364014\n",
            "2.0107967853546143\n",
            "2.0049684047698975\n",
            "2.0324857234954834\n",
            "2.0215418338775635\n",
            "2.0163376331329346\n",
            "2.0069210529327393\n",
            "1.9791429042816162\n",
            "1.991347074508667\n",
            "2.02820086479187\n",
            "2.011599540710449\n",
            "1.9505411386489868\n",
            "2.0155529975891113\n",
            "2.0238304138183594\n",
            "1.9813191890716553\n",
            "1.9941155910491943\n",
            "1.9792426824569702\n",
            "1.9280482530593872\n",
            "2.038426637649536\n",
            "1.9535720348358154\n",
            "2.0221590995788574\n",
            "1.950240135192871\n",
            "1.99885892868042\n",
            "1.9922211170196533\n",
            "1.9485812187194824\n",
            "2.0129196643829346\n",
            "1.9895061254501343\n",
            "2.0157418251037598\n",
            "1.999631404876709\n",
            "1.9808446168899536\n",
            "2.0231986045837402\n",
            "1.9426852464675903\n",
            "1.9197816848754883\n",
            "1.9568620920181274\n",
            "1.9859062433242798\n",
            "1.949562668800354\n",
            "1.971225619316101\n",
            "1.8984591960906982\n",
            "1.9117132425308228\n",
            "1.9285011291503906\n",
            "1.9208862781524658\n",
            "1.9135512113571167\n",
            "1.9485738277435303\n",
            "1.926945447921753\n",
            "1.9031320810317993\n",
            "1.9662666320800781\n",
            "1.9130337238311768\n",
            "1.9639437198638916\n",
            "1.8818135261535645\n",
            "1.9157249927520752\n",
            "1.8788607120513916\n",
            "1.8901231288909912\n",
            "1.9138894081115723\n",
            "1.9642549753189087\n",
            "1.9315578937530518\n",
            "1.8816144466400146\n",
            "1.8787291049957275\n",
            "1.9056129455566406\n",
            "1.8273265361785889\n",
            "1.8078558444976807\n",
            "1.9322855472564697\n",
            "1.920882225036621\n",
            "1.8408591747283936\n",
            "1.8858261108398438\n",
            "1.8735352754592896\n",
            "1.808509349822998\n",
            "1.8489105701446533\n",
            "1.8137750625610352\n",
            "1.8481388092041016\n",
            "1.905901551246643\n",
            "1.8698487281799316\n",
            "1.8993498086929321\n",
            "1.803406000137329\n",
            "1.7735322713851929\n",
            "1.9470754861831665\n",
            "1.8115804195404053\n",
            "1.7832294702529907\n",
            "1.9427952766418457\n",
            "1.8289520740509033\n",
            "1.8294183015823364\n",
            "1.7980709075927734\n",
            "1.8122118711471558\n",
            "1.9142171144485474\n",
            "1.8189693689346313\n",
            "1.886008858680725\n",
            "1.8085856437683105\n",
            "1.798900842666626\n",
            "1.7686128616333008\n",
            "1.835348129272461\n",
            "1.8021551370620728\n",
            "1.769701600074768\n",
            "1.8279790878295898\n",
            "1.79445481300354\n",
            "1.854984998703003\n",
            "1.844024419784546\n",
            "1.7759088277816772\n",
            "1.7367218732833862\n",
            "1.8071019649505615\n",
            "1.8333942890167236\n",
            "1.7457211017608643\n",
            "1.8187005519866943\n",
            "1.7765263319015503\n",
            "1.7529666423797607\n",
            "1.7570931911468506\n",
            "1.7545804977416992\n",
            "1.7584820985794067\n",
            "1.7837482690811157\n",
            "1.7821133136749268\n",
            "1.7663873434066772\n",
            "1.801884412765503\n",
            "1.7448993921279907\n",
            "1.7542133331298828\n",
            "1.7672817707061768\n",
            "1.6423454284667969\n",
            "1.767128586769104\n",
            "1.7353214025497437\n",
            "1.7681866884231567\n",
            "1.6904044151306152\n",
            "1.7449830770492554\n",
            "1.7259635925292969\n",
            "1.803795576095581\n",
            "1.7435497045516968\n",
            "1.6800901889801025\n",
            "1.6967748403549194\n",
            "1.8200739622116089\n",
            "1.7136588096618652\n",
            "1.658551812171936\n",
            "1.7698320150375366\n",
            "1.7732579708099365\n",
            "1.796238660812378\n",
            "1.6828242540359497\n",
            "1.7354055643081665\n",
            "1.7290558815002441\n",
            "1.759891390800476\n",
            "1.748028039932251\n",
            "1.6973989009857178\n",
            "1.7486211061477661\n",
            "1.6921048164367676\n",
            "1.686761736869812\n",
            "1.7121070623397827\n",
            "1.703002691268921\n",
            "1.764440894126892\n",
            "1.7229288816452026\n",
            "1.7456893920898438\n",
            "1.643519401550293\n",
            "1.6188640594482422\n",
            "1.5949804782867432\n",
            "1.6593246459960938\n",
            "1.7370555400848389\n",
            "1.7106399536132812\n",
            "1.6522488594055176\n",
            "1.7135939598083496\n",
            "1.610550045967102\n",
            "1.6810005903244019\n",
            "1.6710702180862427\n",
            "1.7195490598678589\n",
            "1.661526083946228\n",
            "1.691202998161316\n",
            "1.7113896608352661\n",
            "1.683963418006897\n",
            "1.6639069318771362\n",
            "1.5879740715026855\n",
            "1.6931217908859253\n",
            "1.7033112049102783\n",
            "1.6628751754760742\n",
            "1.6275984048843384\n",
            "1.703252911567688\n",
            "1.6005840301513672\n",
            "1.7114025354385376\n",
            "1.5862228870391846\n",
            "1.5713282823562622\n",
            "1.5703680515289307\n",
            "1.6304705142974854\n",
            "1.6375535726547241\n",
            "1.6509120464324951\n",
            "1.6354286670684814\n",
            "1.6412882804870605\n",
            "1.6968238353729248\n",
            "1.6390548944473267\n",
            "1.6355632543563843\n",
            "1.5995755195617676\n",
            "1.6500983238220215\n",
            "1.6342154741287231\n",
            "1.6365208625793457\n",
            "1.5316921472549438\n",
            "1.5360318422317505\n",
            "1.6511709690093994\n",
            "1.5626156330108643\n",
            "1.5878247022628784\n",
            "1.5983401536941528\n",
            "1.5959959030151367\n",
            "1.5581989288330078\n",
            "1.5497815608978271\n",
            "1.586458444595337\n",
            "1.6492316722869873\n",
            "1.5428721904754639\n",
            "1.5766805410385132\n",
            "1.602099061012268\n",
            "1.5060652494430542\n",
            "1.6401352882385254\n",
            "1.5700111389160156\n",
            "1.5546602010726929\n",
            "1.5920127630233765\n",
            "1.65483558177948\n",
            "1.5598007440567017\n",
            "1.565285563468933\n",
            "1.5534735918045044\n",
            "1.645073652267456\n",
            "1.6200517416000366\n",
            "1.5434019565582275\n",
            "1.5227816104888916\n",
            "1.5042887926101685\n",
            "1.5041638612747192\n",
            "1.5909613370895386\n",
            "1.6296180486679077\n",
            "1.5689153671264648\n",
            "1.6071763038635254\n",
            "1.5263392925262451\n",
            "1.6236035823822021\n",
            "1.6330842971801758\n",
            "1.5259166955947876\n",
            "1.5931535959243774\n",
            "1.5149004459381104\n",
            "1.562568187713623\n",
            "1.5247966051101685\n",
            "1.611493706703186\n",
            "1.4115607738494873\n",
            "1.5254460573196411\n",
            "1.5159190893173218\n",
            "1.5686780214309692\n",
            "1.4238706827163696\n",
            "1.4404900074005127\n",
            "1.5971906185150146\n",
            "1.4984655380249023\n",
            "1.466940999031067\n",
            "1.5154941082000732\n",
            "1.5058214664459229\n",
            "1.5545629262924194\n",
            "1.5947322845458984\n",
            "1.516624093055725\n",
            "1.5002388954162598\n",
            "1.5229147672653198\n",
            "1.52013099193573\n",
            "1.5825626850128174\n",
            "1.4460773468017578\n",
            "1.4004782438278198\n",
            "1.4968135356903076\n",
            "1.5607951879501343\n",
            "1.5052154064178467\n",
            "1.3612151145935059\n",
            "1.6009019613265991\n",
            "1.3783645629882812\n",
            "1.4158196449279785\n",
            "1.4884865283966064\n",
            "1.396667242050171\n",
            "1.4065717458724976\n",
            "1.5004023313522339\n",
            "1.4033221006393433\n",
            "1.584761381149292\n",
            "1.3982430696487427\n",
            "1.4048526287078857\n",
            "1.474597454071045\n",
            "1.4604213237762451\n",
            "1.3998662233352661\n",
            "1.3766299486160278\n",
            "1.5000780820846558\n",
            "1.4536094665527344\n",
            "1.4234373569488525\n",
            "1.4864815473556519\n",
            "1.5566914081573486\n",
            "1.5069873332977295\n",
            "1.4642709493637085\n",
            "1.5252021551132202\n",
            "1.5049610137939453\n",
            "1.451263189315796\n",
            "1.3998342752456665\n",
            "1.4675047397613525\n",
            "1.4498310089111328\n",
            "1.3919718265533447\n",
            "1.4280813932418823\n",
            "1.365012288093567\n",
            "1.3595619201660156\n",
            "1.4215630292892456\n",
            "1.3816940784454346\n",
            "1.4906738996505737\n",
            "1.4333971738815308\n",
            "1.4397673606872559\n",
            "1.4788930416107178\n",
            "1.4290564060211182\n",
            "1.4022202491760254\n",
            "1.4296629428863525\n",
            "1.5491588115692139\n",
            "1.334984302520752\n",
            "1.477807641029358\n",
            "1.3632748126983643\n",
            "1.4241799116134644\n",
            "1.3244396448135376\n",
            "1.3553916215896606\n",
            "1.2963109016418457\n",
            "1.3708807229995728\n",
            "1.3548476696014404\n",
            "1.3627614974975586\n",
            "1.4393384456634521\n",
            "1.2708539962768555\n",
            "1.3332024812698364\n",
            "1.366291880607605\n",
            "1.323007345199585\n",
            "1.3336551189422607\n",
            "1.2574505805969238\n",
            "1.4369066953659058\n",
            "1.3861629962921143\n",
            "1.3500303030014038\n",
            "1.3733187913894653\n",
            "1.3817384243011475\n",
            "1.3210794925689697\n",
            "1.3849401473999023\n",
            "1.317552089691162\n",
            "1.3940531015396118\n",
            "1.3003572225570679\n",
            "1.3624720573425293\n",
            "1.3833414316177368\n",
            "1.3207359313964844\n",
            "1.4754937887191772\n",
            "1.5072685480117798\n",
            "1.3717530965805054\n",
            "1.2939614057540894\n",
            "1.3786495923995972\n",
            "1.3875751495361328\n",
            "1.3142796754837036\n",
            "1.4253331422805786\n",
            "1.2834084033966064\n",
            "1.3886101245880127\n",
            "1.3094671964645386\n",
            "1.2978897094726562\n",
            "1.3831363916397095\n",
            "1.4081053733825684\n",
            "1.4205975532531738\n",
            "1.359126329421997\n",
            "1.2792561054229736\n",
            "1.2539440393447876\n",
            "1.2909817695617676\n",
            "1.36289644241333\n",
            "1.2454988956451416\n",
            "1.296814203262329\n",
            "1.2618976831436157\n",
            "1.3815172910690308\n",
            "1.2874035835266113\n",
            "1.3500843048095703\n",
            "1.4584685564041138\n",
            "1.402195692062378\n",
            "1.268653392791748\n",
            "1.1801691055297852\n",
            "1.3744051456451416\n",
            "1.2840603590011597\n",
            "1.408177375793457\n",
            "1.2255139350891113\n",
            "1.4061570167541504\n",
            "1.2535914182662964\n",
            "1.345190405845642\n",
            "1.2629222869873047\n",
            "1.317334532737732\n",
            "1.2704156637191772\n",
            "1.3254714012145996\n",
            "1.3005785942077637\n",
            "1.2526977062225342\n",
            "1.3758413791656494\n",
            "1.3768295049667358\n",
            "1.3627856969833374\n",
            "1.3642504215240479\n",
            "1.4170953035354614\n",
            "1.114990472793579\n",
            "1.3830143213272095\n",
            "1.1191247701644897\n",
            "1.2311075925827026\n",
            "1.246875524520874\n",
            "1.304368257522583\n",
            "1.2746665477752686\n",
            "1.1552096605300903\n",
            "1.298046588897705\n",
            "1.3230235576629639\n",
            "1.2973564863204956\n",
            "1.247771978378296\n",
            "1.3320244550704956\n",
            "1.308686375617981\n",
            "1.2204502820968628\n",
            "1.3336061239242554\n",
            "1.2350316047668457\n",
            "1.2450274229049683\n",
            "1.1502896547317505\n",
            "1.2700653076171875\n",
            "1.327292799949646\n",
            "1.2344229221343994\n",
            "1.2434600591659546\n",
            "1.1806607246398926\n",
            "1.315825343132019\n",
            "1.301977515220642\n",
            "1.194553256034851\n",
            "1.162032961845398\n",
            "1.3037195205688477\n",
            "1.1516976356506348\n",
            "1.2612457275390625\n",
            "1.172757863998413\n",
            "1.1404709815979004\n",
            "1.2296305894851685\n",
            "1.243026852607727\n",
            "1.311660647392273\n",
            "1.3067885637283325\n",
            "1.3882708549499512\n",
            "1.1782602071762085\n",
            "1.1841033697128296\n",
            "1.2903523445129395\n",
            "1.2299656867980957\n",
            "1.2546497583389282\n",
            "1.240628957748413\n",
            "1.3433212041854858\n",
            "1.1159610748291016\n",
            "1.259070873260498\n",
            "1.2025357484817505\n",
            "1.2468701601028442\n",
            "1.1888562440872192\n",
            "1.3265068531036377\n",
            "1.3112366199493408\n",
            "1.271213412284851\n",
            "1.2698125839233398\n",
            "1.3490240573883057\n",
            "1.1861178874969482\n",
            "1.1444027423858643\n",
            "1.2273894548416138\n",
            "1.2162024974822998\n",
            "1.2644493579864502\n",
            "1.2219597101211548\n",
            "1.234588861465454\n",
            "1.1210758686065674\n",
            "1.1558080911636353\n",
            "1.1670761108398438\n",
            "1.2320458889007568\n",
            "1.216428279876709\n",
            "1.1864292621612549\n",
            "1.3812572956085205\n",
            "1.317509412765503\n",
            "1.277182698249817\n",
            "1.2456974983215332\n",
            "1.1048868894577026\n",
            "1.1698354482650757\n",
            "1.1420501470565796\n",
            "1.3686522245407104\n",
            "1.2690531015396118\n",
            "1.1879199743270874\n",
            "1.2607022523880005\n",
            "1.1738972663879395\n",
            "1.1062915325164795\n",
            "1.3182929754257202\n",
            "1.2132484912872314\n",
            "1.3078123331069946\n",
            "1.1884740591049194\n",
            "1.2229516506195068\n",
            "1.0999338626861572\n",
            "1.2111070156097412\n",
            "1.1420868635177612\n",
            "1.2229511737823486\n",
            "1.1714651584625244\n",
            "1.193777084350586\n",
            "1.197271466255188\n",
            "1.2041047811508179\n",
            "1.2013992071151733\n",
            "1.2765425443649292\n",
            "1.1538726091384888\n",
            "1.0380784273147583\n",
            "1.247006893157959\n",
            "1.1944619417190552\n",
            "1.3356053829193115\n",
            "1.2159498929977417\n",
            "1.3466908931732178\n",
            "1.2669141292572021\n",
            "1.088559627532959\n",
            "1.1613917350769043\n",
            "1.220514178276062\n",
            "1.1694278717041016\n",
            "1.207907795906067\n",
            "1.1734204292297363\n",
            "1.1560819149017334\n",
            "1.1454743146896362\n",
            "1.0796327590942383\n",
            "1.1128082275390625\n",
            "1.298893928527832\n",
            "1.1596386432647705\n",
            "1.122001051902771\n",
            "1.1606272459030151\n",
            "1.1289165019989014\n",
            "1.1077675819396973\n",
            "1.0963910818099976\n",
            "1.13584303855896\n",
            "1.1338258981704712\n",
            "1.165693759918213\n",
            "1.2873681783676147\n",
            "1.0956823825836182\n",
            "1.087981939315796\n",
            "1.067221760749817\n",
            "1.2177907228469849\n",
            "1.2014626264572144\n",
            "1.1214481592178345\n",
            "1.1767886877059937\n",
            "1.1615841388702393\n",
            "1.1286976337432861\n",
            "1.151228904724121\n",
            "1.0907022953033447\n",
            "1.140529751777649\n",
            "1.195773959159851\n",
            "1.0080519914627075\n",
            "1.1453057527542114\n",
            "1.2319382429122925\n",
            "1.012570858001709\n",
            "1.100952386856079\n",
            "1.136069893836975\n",
            "1.1795469522476196\n",
            "0.9403956532478333\n",
            "1.1154561042785645\n",
            "1.1328022480010986\n",
            "1.0796092748641968\n",
            "1.0186495780944824\n",
            "1.060180902481079\n",
            "1.1007660627365112\n",
            "1.0566526651382446\n",
            "1.051388144493103\n",
            "1.0294907093048096\n",
            "1.1605985164642334\n",
            "0.9597081542015076\n",
            "1.0315744876861572\n",
            "1.0991460084915161\n",
            "1.2064616680145264\n",
            "1.0364599227905273\n",
            "1.099013328552246\n",
            "1.0696214437484741\n",
            "1.1797784566879272\n",
            "1.1031687259674072\n",
            "1.1294097900390625\n",
            "0.990226686000824\n",
            "1.166245937347412\n",
            "1.1131985187530518\n",
            "0.9974287748336792\n",
            "1.0748534202575684\n",
            "1.1635936498641968\n",
            "1.0013622045516968\n",
            "1.0866469144821167\n",
            "1.058109164237976\n",
            "1.0985372066497803\n",
            "1.1328060626983643\n",
            "1.1528452634811401\n",
            "1.1312963962554932\n",
            "1.1158344745635986\n",
            "1.0980168581008911\n",
            "1.1702924966812134\n",
            "1.0210731029510498\n",
            "1.1195722818374634\n",
            "1.084092378616333\n",
            "0.9986808896064758\n",
            "1.1933337450027466\n",
            "1.1962112188339233\n",
            "0.8752536773681641\n",
            "1.1611114740371704\n",
            "1.033888339996338\n",
            "1.1626110076904297\n",
            "1.1053677797317505\n",
            "1.1777337789535522\n",
            "0.9376790523529053\n",
            "1.2445708513259888\n",
            "1.0613014698028564\n",
            "0.9519594311714172\n",
            "0.9055414795875549\n",
            "1.1176234483718872\n",
            "1.002319097518921\n",
            "1.0475844144821167\n",
            "1.0952068567276\n",
            "1.0609835386276245\n",
            "1.0250394344329834\n",
            "1.1115933656692505\n",
            "1.1250828504562378\n",
            "1.0316823720932007\n",
            "0.9435691237449646\n",
            "1.1204464435577393\n",
            "1.0719894170761108\n",
            "0.9768306016921997\n",
            "0.998797595500946\n",
            "0.9819381237030029\n",
            "1.0480629205703735\n",
            "1.1520735025405884\n",
            "0.9805707335472107\n",
            "0.9877109527587891\n",
            "1.044311285018921\n",
            "0.8978770971298218\n",
            "0.9737515449523926\n",
            "1.0529958009719849\n",
            "0.962257444858551\n",
            "1.019007682800293\n",
            "1.1025407314300537\n",
            "1.176781415939331\n",
            "1.0927650928497314\n",
            "1.0045846700668335\n",
            "1.025776982307434\n",
            "1.0004271268844604\n",
            "1.15915846824646\n",
            "1.0179229974746704\n",
            "1.0031355619430542\n",
            "1.0626814365386963\n",
            "1.0620368719100952\n",
            "0.9744704961776733\n",
            "1.0888248682022095\n",
            "1.0858206748962402\n",
            "1.0782190561294556\n",
            "0.8930004239082336\n",
            "0.9385496973991394\n",
            "0.9686764478683472\n",
            "1.004711627960205\n",
            "1.03041672706604\n",
            "1.0176870822906494\n",
            "0.9988787174224854\n",
            "1.093507170677185\n",
            "1.026033639907837\n",
            "0.9182989001274109\n",
            "0.9900415539741516\n",
            "1.132402777671814\n",
            "1.020979881286621\n",
            "0.8551073670387268\n",
            "1.0780494213104248\n",
            "1.1929094791412354\n",
            "1.0890858173370361\n",
            "0.9476770758628845\n",
            "1.102862000465393\n",
            "1.0675731897354126\n",
            "0.9747088551521301\n",
            "0.93739914894104\n",
            "1.1198537349700928\n",
            "1.0092209577560425\n",
            "0.997121274471283\n",
            "0.963111937046051\n",
            "0.8778602480888367\n",
            "0.9583337903022766\n",
            "1.0134438276290894\n",
            "1.0859074592590332\n",
            "0.9670292735099792\n",
            "1.0992263555526733\n",
            "0.933379054069519\n",
            "1.1129345893859863\n",
            "1.0076324939727783\n",
            "1.0078632831573486\n",
            "1.067800760269165\n",
            "0.938258945941925\n",
            "0.9537122249603271\n",
            "0.9283567667007446\n",
            "0.9692071676254272\n",
            "1.1481609344482422\n",
            "0.9550189971923828\n",
            "1.0204763412475586\n",
            "0.9438273310661316\n",
            "1.1071970462799072\n",
            "0.8272258043289185\n",
            "0.9413697719573975\n",
            "1.110180139541626\n",
            "0.9946981072425842\n",
            "0.9333491325378418\n",
            "1.0669736862182617\n",
            "1.0225886106491089\n",
            "0.9860460758209229\n",
            "1.0335428714752197\n",
            "0.9656022787094116\n",
            "0.8593152165412903\n",
            "1.011164903640747\n",
            "1.0234057903289795\n",
            "1.0230778455734253\n",
            "1.0442460775375366\n",
            "0.9555683135986328\n",
            "0.9620189070701599\n",
            "1.021190881729126\n",
            "1.1208888292312622\n",
            "0.9784164428710938\n",
            "0.977691650390625\n",
            "0.94529128074646\n",
            "0.9393919110298157\n",
            "0.9084851741790771\n",
            "0.9249306321144104\n",
            "0.9862263798713684\n",
            "0.9194194674491882\n",
            "1.0695594549179077\n",
            "1.0514241456985474\n",
            "0.9439632296562195\n",
            "1.0565024614334106\n",
            "1.0529423952102661\n",
            "0.9706915020942688\n",
            "0.8834648132324219\n",
            "0.8707112669944763\n",
            "0.9629295468330383\n",
            "0.9989178776741028\n",
            "1.1202054023742676\n",
            "0.7987931370735168\n",
            "0.8641592860221863\n",
            "0.8919509649276733\n",
            "0.9441928267478943\n",
            "0.9798085689544678\n",
            "0.8798612952232361\n",
            "0.9929752349853516\n",
            "1.0410432815551758\n",
            "1.0145151615142822\n",
            "0.9232851266860962\n",
            "1.0455340147018433\n",
            "0.9008669257164001\n",
            "0.962406575679779\n",
            "0.9237837195396423\n",
            "1.024493932723999\n",
            "1.0398035049438477\n",
            "0.8701644539833069\n",
            "1.041077971458435\n",
            "0.9457092881202698\n",
            "0.9153949022293091\n",
            "0.9541350603103638\n",
            "0.9604656100273132\n",
            "0.9968104362487793\n",
            "0.9978107810020447\n",
            "0.937277615070343\n",
            "0.8755447268486023\n",
            "0.9778074026107788\n",
            "0.8229852914810181\n",
            "1.0823465585708618\n",
            "1.0064102411270142\n",
            "0.9077845811843872\n",
            "1.0151830911636353\n",
            "0.9341006875038147\n",
            "0.919217050075531\n",
            "0.8789709210395813\n",
            "0.8458571434020996\n",
            "0.9230931997299194\n",
            "0.8640962839126587\n",
            "0.8586828708648682\n",
            "0.8525091409683228\n",
            "0.8936823010444641\n",
            "0.814490020275116\n",
            "0.8891074657440186\n",
            "0.966392993927002\n",
            "0.9837902784347534\n",
            "1.0014252662658691\n",
            "1.0129810571670532\n",
            "0.8522555828094482\n",
            "0.8723567128181458\n",
            "0.9317587018013\n",
            "1.0880584716796875\n",
            "0.8590807318687439\n",
            "0.9182494282722473\n",
            "0.8740889430046082\n",
            "0.9609395265579224\n",
            "0.9777332544326782\n",
            "0.9913510680198669\n",
            "0.933783769607544\n",
            "1.0035111904144287\n",
            "0.9803807735443115\n",
            "0.9284873604774475\n",
            "0.9313673377037048\n",
            "1.0138189792633057\n",
            "0.8710580468177795\n",
            "0.9151568412780762\n",
            "1.001805067062378\n",
            "0.9339079856872559\n",
            "0.8119231462478638\n",
            "0.8237758874893188\n",
            "0.8905639052391052\n",
            "0.9219709038734436\n",
            "0.8515568375587463\n",
            "0.9417638778686523\n",
            "0.9740418195724487\n",
            "0.8972707390785217\n",
            "0.9625452756881714\n",
            "0.8673195242881775\n",
            "0.8892842531204224\n",
            "0.8472995758056641\n",
            "1.0574978590011597\n",
            "0.9364746809005737\n",
            "0.7805259823799133\n",
            "0.9894078969955444\n",
            "0.901652455329895\n",
            "0.9293478727340698\n",
            "0.9116719365119934\n",
            "0.8349430561065674\n",
            "0.8652859330177307\n",
            "0.9615319967269897\n",
            "0.9124618172645569\n",
            "0.9058387875556946\n",
            "0.824950098991394\n",
            "0.8240531086921692\n",
            "0.8400538563728333\n",
            "0.8286426067352295\n",
            "0.904174268245697\n",
            "0.8784610033035278\n",
            "0.8291562795639038\n",
            "0.8711596727371216\n",
            "0.8710220456123352\n",
            "0.961643636226654\n",
            "0.8708714246749878\n",
            "1.0119439363479614\n",
            "0.8883928656578064\n",
            "0.9002334475517273\n",
            "0.6822860836982727\n",
            "0.9838796257972717\n",
            "0.9151299595832825\n",
            "0.922272264957428\n",
            "0.7483388185501099\n",
            "0.856610119342804\n",
            "0.941317081451416\n",
            "0.7790431380271912\n",
            "0.8621857762336731\n",
            "0.7786428332328796\n",
            "0.8923624753952026\n",
            "0.9516552090644836\n",
            "0.8673127293586731\n",
            "0.8898339867591858\n",
            "0.8368966579437256\n",
            "0.9961697459220886\n",
            "0.7443466186523438\n",
            "0.947662889957428\n",
            "0.9032788872718811\n",
            "0.8586033582687378\n",
            "0.8979259133338928\n",
            "0.8880633115768433\n",
            "0.938603937625885\n",
            "0.7621047496795654\n",
            "0.9105867147445679\n",
            "0.7321379780769348\n",
            "0.7898464798927307\n",
            "0.8503744006156921\n",
            "0.7687013745307922\n",
            "0.747774600982666\n",
            "0.9037238359451294\n",
            "0.9140506982803345\n",
            "0.9530246257781982\n",
            "1.0044982433319092\n",
            "0.8654232621192932\n",
            "0.8169059157371521\n",
            "1.063519835472107\n",
            "0.8667261004447937\n",
            "0.801952064037323\n",
            "0.867851972579956\n",
            "0.8887705206871033\n",
            "0.8936589956283569\n",
            "0.8724929690361023\n",
            "0.9235690236091614\n",
            "0.865174412727356\n",
            "0.6832427382469177\n",
            "0.8419485688209534\n",
            "1.0803751945495605\n",
            "0.8736532926559448\n",
            "0.9416052103042603\n",
            "0.6733912825584412\n"
          ],
          "name": "stdout"
        }
      ]
    },
    {
      "cell_type": "code",
      "metadata": {
        "id": "etvZDu2PAPnM",
        "outputId": "0d49baf7-663f-4180-f9e2-e1c68f2571ac",
        "colab": {
          "base_uri": "https://localhost:8080/",
          "height": 357
        }
      },
      "source": [
        "# 3. Make a test function to test the accuracy of the trained network. \n",
        "\n",
        "from torch.autograd import Variable as var\n",
        "\n",
        "# The test set is provided for you here: \n",
        "test_batch_size = 1000\n",
        "test_set = torch.utils.data.DataLoader(\n",
        "        datasets.MNIST('../data', train=False, transform=transforms.Compose([\n",
        "                           transforms.ToTensor(),\n",
        "                           transforms.Normalize((0.1307,), (0.3081,))\n",
        "                       ])),\n",
        "        batch_size=test_batch_size, shuffle=True)\n",
        "\n",
        "total = 0\n",
        "correct = 0\n",
        "for i,(images,labels) in enumerate(test_set):\n",
        "    images = var(images.cpu())\n",
        "    x = model(images)\n",
        "    value,pred = torch.max(x,1)\n",
        "    pred = pred.data.cpu()\n",
        "    total += x.size(0)\n",
        "    correct += torch.sum(pred == labels)\n",
        "\n",
        "# What accuracy is achieved? \n",
        "print('Accuracty:')\n",
        "print(correct.item()*100./total, end =\"\")\n",
        "print('%')\n",
        "\n",
        "# What is the size of the network (in MB)? \n",
        "from torchsummary import summary\n",
        "summary(model, input_size=(1, 28, 28))\n",
        "\n",
        "# What is the training time?\n",
        "print('Training time for 1 epoch:')\n",
        "print(trainingtime, end =\"\")\n",
        "print ('s')"
      ],
      "execution_count": null,
      "outputs": [
        {
          "output_type": "stream",
          "text": [
            "Accuracty:\n",
            "84.42%\n",
            "----------------------------------------------------------------\n",
            "        Layer (type)               Output Shape         Param #\n",
            "================================================================\n",
            "            Linear-1                 [-1, 1000]         785,000\n",
            "              ReLU-2                 [-1, 1000]               0\n",
            "            Linear-3                   [-1, 10]          10,010\n",
            "================================================================\n",
            "Total params: 795,010\n",
            "Trainable params: 795,010\n",
            "Non-trainable params: 0\n",
            "----------------------------------------------------------------\n",
            "Input size (MB): 0.00\n",
            "Forward/backward pass size (MB): 0.02\n",
            "Params size (MB): 3.03\n",
            "Estimated Total Size (MB): 3.05\n",
            "----------------------------------------------------------------\n",
            "Training time for 1 epoch:\n",
            "19.38167691230774s\n"
          ],
          "name": "stdout"
        }
      ]
    },
    {
      "cell_type": "code",
      "metadata": {
        "id": "97hE8BwtARgV",
        "outputId": "9735d145-578b-4a8d-b6dd-61c630503055",
        "colab": {
          "base_uri": "https://localhost:8080/",
          "height": 391
        }
      },
      "source": [
        "# 4. Now do the same with 3 layers consisting of 1000, 1000, and 10 units \n",
        "# from input to output. \n",
        "\n",
        "class MNIST_classifier2(nn.Module):\n",
        "    def __init__(self):\n",
        "        super(MNIST_classifier2, self).__init__()\n",
        "        # Write the code defining the structure of the network here\n",
        "        self.layer1=nn.Linear(28*28, 1000)\n",
        "        self.layer2=nn.Linear(1000, 1000)\n",
        "        self.layer3=nn.Linear(1000, 10)\n",
        "        self.relu=nn.ReLU()\n",
        "        \n",
        "    def forward(self, x):\n",
        "        # Define what a forward pass looks like here:\n",
        "        # Erase the 'pass' keyword and insert your own code.\n",
        "        x = images.view(-1,28*28)\n",
        "        x = self.relu(self.layer1(x))\n",
        "        x = self.relu(self.layer2(x))\n",
        "        x = self.layer3(x)\n",
        "        return F.log_softmax(x, dim=1)\n",
        "\n",
        "batch_size = 64\n",
        "n_epochs=1\n",
        "model = MNIST_classifier2()\n",
        "cec_loss = nn.CrossEntropyLoss()\n",
        "params = model.parameters()\n",
        "optimizer = optim.SGD(params=params,lr=0.001)\n",
        "\n",
        "training_set = torch.utils.data.DataLoader(\n",
        "        datasets.MNIST('../data', train=True, download=True,\n",
        "                       transform=transforms.Compose([\n",
        "                           transforms.ToTensor(),\n",
        "                           transforms.Normalize((0.1307,), (0.3081,))\n",
        "                       ])),\n",
        "        batch_size=batch_size, shuffle=True)\n",
        "\n",
        "t0=time.time()\n",
        "for e in range(n_epochs):\n",
        "    for i,(images,labels) in enumerate(training_set):\n",
        "        images = Variable(images)\n",
        "        labels = Variable(labels)\n",
        "        output = model(images)\n",
        "        model.zero_grad()\n",
        "        loss = cec_loss(output,labels)\n",
        "        loss.backward()\n",
        "        optimizer.step()\n",
        "        #print(loss.item())\n",
        "t1=time.time()\n",
        "trainingtime=t1-t0\n",
        "\n",
        "test_batch_size = 1000\n",
        "test_set = torch.utils.data.DataLoader(\n",
        "        datasets.MNIST('../data', train=False, transform=transforms.Compose([\n",
        "                           transforms.ToTensor(),\n",
        "                           transforms.Normalize((0.1307,), (0.3081,))\n",
        "                       ])),\n",
        "        batch_size=test_batch_size, shuffle=True)\n",
        "\n",
        "total = 0\n",
        "correct = 0\n",
        "for i,(images,labels) in enumerate(test_set):\n",
        "    images = var(images.cpu())\n",
        "    x = model(images)\n",
        "    value,pred = torch.max(x,1)\n",
        "    pred = pred.data.cpu()\n",
        "    total += x.size(0)\n",
        "    correct += torch.sum(pred == labels)\n",
        "\n",
        "# What accuracy is achieved? \n",
        "print('Accuracty:')\n",
        "print(correct.item()*100./total, end =\"\")\n",
        "print('%')\n",
        "\n",
        "# What is the size of the network (in MB)? \n",
        "from torchsummary import summary\n",
        "summary(model, input_size=(1, 28, 28))\n",
        "\n",
        "# What is the training time?\n",
        "print('Training time for 1 epoch:')\n",
        "print(trainingtime, end =\"\")\n",
        "print ('s')"
      ],
      "execution_count": null,
      "outputs": [
        {
          "output_type": "stream",
          "text": [
            "Accuracty:\n",
            "77.05%\n",
            "----------------------------------------------------------------\n",
            "        Layer (type)               Output Shape         Param #\n",
            "================================================================\n",
            "            Linear-1                 [-1, 1000]         785,000\n",
            "              ReLU-2                 [-1, 1000]               0\n",
            "            Linear-3                 [-1, 1000]       1,001,000\n",
            "              ReLU-4                 [-1, 1000]               0\n",
            "            Linear-5                   [-1, 10]          10,010\n",
            "================================================================\n",
            "Total params: 1,796,010\n",
            "Trainable params: 1,796,010\n",
            "Non-trainable params: 0\n",
            "----------------------------------------------------------------\n",
            "Input size (MB): 0.00\n",
            "Forward/backward pass size (MB): 0.03\n",
            "Params size (MB): 6.85\n",
            "Estimated Total Size (MB): 6.88\n",
            "----------------------------------------------------------------\n",
            "Training time for 1 epoch:\n",
            "28.591437578201294s\n"
          ],
          "name": "stdout"
        }
      ]
    },
    {
      "cell_type": "code",
      "metadata": {
        "id": "MtrfsUN9AW7A",
        "outputId": "3429533d-29ae-4afa-c552-33bc747cfcaf",
        "colab": {
          "base_uri": "https://localhost:8080/",
          "height": 391
        }
      },
      "source": [
        "# 5. Do the same using the Adam optimizer. \n",
        "\n",
        "class MNIST_classifier3(nn.Module):\n",
        "    def __init__(self):\n",
        "        super(MNIST_classifier3, self).__init__()\n",
        "        # Write the code defining the structure of the network here\n",
        "        self.layer1=nn.Linear(28*28, 1000)\n",
        "        self.layer2=nn.Linear(1000, 1000)\n",
        "        self.layer3=nn.Linear(1000, 10)\n",
        "        self.relu=nn.ReLU()\n",
        "        \n",
        "    def forward(self, x):\n",
        "        # Define what a forward pass looks like here:\n",
        "        # Erase the 'pass' keyword and insert your own code.\n",
        "        x = images.view(-1,28*28)\n",
        "        x = self.relu(self.layer1(x))\n",
        "        x = self.relu(self.layer2(x))\n",
        "        x = self.layer3(x)\n",
        "        return F.log_softmax(x, dim=1)\n",
        "\n",
        "batch_size = 64\n",
        "n_epochs=1\n",
        "model = MNIST_classifier3()\n",
        "cec_loss = nn.CrossEntropyLoss()\n",
        "params = model.parameters()\n",
        "optimizer = optim.Adam(params=params,lr=0.001)\n",
        "\n",
        "training_set = torch.utils.data.DataLoader(\n",
        "        datasets.MNIST('../data', train=True, download=True,\n",
        "                       transform=transforms.Compose([\n",
        "                           transforms.ToTensor(),\n",
        "                           transforms.Normalize((0.1307,), (0.3081,))\n",
        "                       ])),\n",
        "        batch_size=batch_size, shuffle=True)\n",
        "\n",
        "t0=time.time()\n",
        "for e in range(n_epochs):\n",
        "    for i,(images,labels) in enumerate(training_set):\n",
        "        images = Variable(images)\n",
        "        labels = Variable(labels)\n",
        "        output = model(images)\n",
        "        model.zero_grad()\n",
        "        loss = cec_loss(output,labels)\n",
        "        loss.backward()\n",
        "        optimizer.step()\n",
        "        #print(loss.item())\n",
        "t1=time.time()\n",
        "trainingtime=t1-t0\n",
        "\n",
        "test_batch_size = 1000\n",
        "test_set = torch.utils.data.DataLoader(\n",
        "        datasets.MNIST('../data', train=False, transform=transforms.Compose([\n",
        "                           transforms.ToTensor(),\n",
        "                           transforms.Normalize((0.1307,), (0.3081,))\n",
        "                       ])),\n",
        "        batch_size=test_batch_size, shuffle=True)\n",
        "\n",
        "total = 0\n",
        "correct = 0\n",
        "for i,(images,labels) in enumerate(test_set):\n",
        "    images = var(images.cpu())\n",
        "    x = model(images)\n",
        "    value,pred = torch.max(x,1)\n",
        "    pred = pred.data.cpu()\n",
        "    total += x.size(0)\n",
        "    correct += torch.sum(pred == labels)\n",
        "\n",
        "# What accuracy is achieved? \n",
        "print('Accuracty:')\n",
        "print(correct.item()*100./total, end =\"\")\n",
        "print('%')\n",
        "\n",
        "# What is the size of the network (in MB)? \n",
        "from torchsummary import summary\n",
        "summary(model, input_size=(1, 28, 28))\n",
        "\n",
        "# What is the training time?\n",
        "print('Training time for 1 epoch:')\n",
        "print(trainingtime, end =\"\")\n",
        "print ('s')\n",
        "\n",
        "# How does this affect the training time? It slows training but accuracy is much better!"
      ],
      "execution_count": null,
      "outputs": [
        {
          "output_type": "stream",
          "text": [
            "Accuracty:\n",
            "96.88%\n",
            "----------------------------------------------------------------\n",
            "        Layer (type)               Output Shape         Param #\n",
            "================================================================\n",
            "            Linear-1                 [-1, 1000]         785,000\n",
            "              ReLU-2                 [-1, 1000]               0\n",
            "            Linear-3                 [-1, 1000]       1,001,000\n",
            "              ReLU-4                 [-1, 1000]               0\n",
            "            Linear-5                   [-1, 10]          10,010\n",
            "================================================================\n",
            "Total params: 1,796,010\n",
            "Trainable params: 1,796,010\n",
            "Non-trainable params: 0\n",
            "----------------------------------------------------------------\n",
            "Input size (MB): 0.00\n",
            "Forward/backward pass size (MB): 0.03\n",
            "Params size (MB): 6.85\n",
            "Estimated Total Size (MB): 6.88\n",
            "----------------------------------------------------------------\n",
            "Training time for 1 epoch:\n",
            "42.266738176345825s\n"
          ],
          "name": "stdout"
        }
      ]
    },
    {
      "cell_type": "code",
      "metadata": {
        "id": "iJvqiA7MAYMP",
        "outputId": "cdc08853-aa5b-4b46-f619-c85560a86506",
        "colab": {
          "base_uri": "https://localhost:8080/",
          "height": 391
        }
      },
      "source": [
        "# 6. (Grad) Repeat this exercise, but this time use a convolutional neural network\n",
        "# with two convolutional and maxpool layers. \n",
        "\n",
        "class MNIST_classifier4(nn.Module):\n",
        "    def __init__(self):\n",
        "        super(MNIST_classifier4, self).__init__()\n",
        "        # Write the code defining the structure of the network here\n",
        "        self.conv1 = nn.Conv2d(1, 10, kernel_size=5)\n",
        "        self.conv2 = nn.Conv2d(10, 20, kernel_size=5)\n",
        "        self.relu=nn.ReLU()\n",
        "        \n",
        "    def forward(self, x):\n",
        "        # Define what a forward pass looks like here:\n",
        "        # Erase the 'pass' keyword and insert your own code.\n",
        "        x = F.relu(F.max_pool2d(self.conv1(x), 2))\n",
        "        x = F.relu(F.max_pool2d(self.conv2_drop(self.conv2(x)), 2))\n",
        "        x = x.view(-1, 320)\n",
        "        x = F.relu(self.fc1(x))\n",
        "        x = self.fc2(x)\n",
        "        return F.log_softmax(x, dim=1)\n",
        "\n",
        "batch_size = 64\n",
        "n_epochs=1\n",
        "model = MNIST_classifier3()\n",
        "cec_loss = nn.CrossEntropyLoss()\n",
        "params = model.parameters()\n",
        "optimizer = optim.SGD(params=params,lr=0.001)\n",
        "\n",
        "training_set = torch.utils.data.DataLoader(\n",
        "        datasets.MNIST('../data', train=True, download=True,\n",
        "                       transform=transforms.Compose([\n",
        "                           transforms.ToTensor(),\n",
        "                           transforms.Normalize((0.1307,), (0.3081,))\n",
        "                       ])),\n",
        "        batch_size=batch_size, shuffle=True)\n",
        "\n",
        "t0=time.time()\n",
        "for e in range(n_epochs):\n",
        "    for i,(images,labels) in enumerate(training_set):\n",
        "        images = Variable(images)\n",
        "        labels = Variable(labels)\n",
        "        output = model(images)\n",
        "        model.zero_grad()\n",
        "        loss = cec_loss(output,labels)\n",
        "        loss.backward()\n",
        "        optimizer.step()\n",
        "        #print(loss.item())\n",
        "t1=time.time()\n",
        "trainingtime=t1-t0\n",
        "\n",
        "test_batch_size = 1000\n",
        "test_set = torch.utils.data.DataLoader(\n",
        "        datasets.MNIST('../data', train=False, transform=transforms.Compose([\n",
        "                           transforms.ToTensor(),\n",
        "                           transforms.Normalize((0.1307,), (0.3081,))\n",
        "                       ])),\n",
        "        batch_size=test_batch_size, shuffle=True)\n",
        "\n",
        "total = 0\n",
        "correct = 0\n",
        "for i,(images,labels) in enumerate(test_set):\n",
        "    images = var(images.cpu())\n",
        "    x = model(images)\n",
        "    value,pred = torch.max(x,1)\n",
        "    pred = pred.data.cpu()\n",
        "    total += x.size(0)\n",
        "    correct += torch.sum(pred == labels)\n",
        "\n",
        "# What accuracy is achieved? \n",
        "print('Accuracty:')\n",
        "print(correct.item()*100./total, end =\"\")\n",
        "print('%')\n",
        "\n",
        "# What is the size of the network (in MB)? \n",
        "from torchsummary import summary\n",
        "summary(model, input_size=(1, 28, 28))\n",
        "\n",
        "# What is the training time?\n",
        "print('Training time for 1 epoch:')\n",
        "print(trainingtime, end =\"\")\n",
        "print ('s')\n"
      ],
      "execution_count": null,
      "outputs": [
        {
          "output_type": "stream",
          "text": [
            "Accuracty:\n",
            "75.4%\n",
            "----------------------------------------------------------------\n",
            "        Layer (type)               Output Shape         Param #\n",
            "================================================================\n",
            "            Linear-1                 [-1, 1000]         785,000\n",
            "              ReLU-2                 [-1, 1000]               0\n",
            "            Linear-3                 [-1, 1000]       1,001,000\n",
            "              ReLU-4                 [-1, 1000]               0\n",
            "            Linear-5                   [-1, 10]          10,010\n",
            "================================================================\n",
            "Total params: 1,796,010\n",
            "Trainable params: 1,796,010\n",
            "Non-trainable params: 0\n",
            "----------------------------------------------------------------\n",
            "Input size (MB): 0.00\n",
            "Forward/backward pass size (MB): 0.03\n",
            "Params size (MB): 6.85\n",
            "Estimated Total Size (MB): 6.88\n",
            "----------------------------------------------------------------\n",
            "Training time for 1 epoch:\n",
            "28.428371906280518s\n"
          ],
          "name": "stdout"
        }
      ]
    },
    {
      "cell_type": "code",
      "metadata": {
        "id": "BOeLve1KAhhT",
        "outputId": "b3ba1811-d0c1-4db2-8a1d-e33dba34f25e",
        "colab": {
          "base_uri": "https://localhost:8080/",
          "height": 391
        }
      },
      "source": [
        "# 7. (Grad) Answer the same questions with three intermediate convolutional layers.\n",
        "\n",
        "class MNIST_classifier5(nn.Module):\n",
        "    def __init__(self):\n",
        "        super(MNIST_classifier5, self).__init__()\n",
        "        # Write the code defining the structure of the network here\n",
        "        self.conv1 = nn.Conv2d(1, 10, kernel_size=5)\n",
        "        self.conv2 = nn.Conv2d(10, 10, kernel_size=5)\n",
        "        self.conv3 = nn.Conv2d(10, 20, kernel_size=5)\n",
        "        self.relu=nn.ReLU()\n",
        "        \n",
        "    def forward(self, x):\n",
        "        # Define what a forward pass looks like here:\n",
        "        # Erase the 'pass' keyword and insert your own code.\n",
        "        x = F.relu(F.max_pool2d(self.conv1(x), 2))\n",
        "        x = F.relu(F.max_pool2d(self.conv2(x), 2))\n",
        "        x = F.relu(F.max_pool2d(self.conv3_drop(self.conv3(x)), 2))\n",
        "        x = x.view(-1, 320)\n",
        "        x = F.relu(self.fc1(x))\n",
        "        x = self.fc2(x)\n",
        "        return F.log_softmax(x, dim=1)\n",
        "\n",
        "batch_size = 64\n",
        "n_epochs=1\n",
        "model = MNIST_classifier3()\n",
        "cec_loss = nn.CrossEntropyLoss()\n",
        "params = model.parameters()\n",
        "optimizer = optim.SGD(params=params,lr=0.001)\n",
        "\n",
        "training_set = torch.utils.data.DataLoader(\n",
        "        datasets.MNIST('../data', train=True, download=True,\n",
        "                       transform=transforms.Compose([\n",
        "                           transforms.ToTensor(),\n",
        "                           transforms.Normalize((0.1307,), (0.3081,))\n",
        "                       ])),\n",
        "        batch_size=batch_size, shuffle=True)\n",
        "\n",
        "t0=time.time()\n",
        "for e in range(n_epochs):\n",
        "    for i,(images,labels) in enumerate(training_set):\n",
        "        images = Variable(images)\n",
        "        labels = Variable(labels)\n",
        "        output = model(images)\n",
        "        model.zero_grad()\n",
        "        loss = cec_loss(output,labels)\n",
        "        loss.backward()\n",
        "        optimizer.step()\n",
        "        #print(loss.item())\n",
        "t1=time.time()\n",
        "trainingtime=t1-t0\n",
        "\n",
        "test_batch_size = 1000\n",
        "test_set = torch.utils.data.DataLoader(\n",
        "        datasets.MNIST('../data', train=False, transform=transforms.Compose([\n",
        "                           transforms.ToTensor(),\n",
        "                           transforms.Normalize((0.1307,), (0.3081,))\n",
        "                       ])),\n",
        "        batch_size=test_batch_size, shuffle=True)\n",
        "\n",
        "total = 0\n",
        "correct = 0\n",
        "for i,(images,labels) in enumerate(test_set):\n",
        "    images = var(images.cpu())\n",
        "    x = model(images)\n",
        "    value,pred = torch.max(x,1)\n",
        "    pred = pred.data.cpu()\n",
        "    total += x.size(0)\n",
        "    correct += torch.sum(pred == labels)\n",
        "\n",
        "# What accuracy is achieved? \n",
        "print('Accuracty:')\n",
        "print(correct.item()*100./total, end =\"\")\n",
        "print('%')\n",
        "\n",
        "# What is the size of the network (in MB)? \n",
        "from torchsummary import summary\n",
        "summary(model, input_size=(1, 28, 28))\n",
        "\n",
        "# What is the training time?\n",
        "print('Training time for 1 epoch:')\n",
        "print(trainingtime, end =\"\")\n",
        "print ('s')"
      ],
      "execution_count": null,
      "outputs": [
        {
          "output_type": "stream",
          "text": [
            "Accuracty:\n",
            "76.01%\n",
            "----------------------------------------------------------------\n",
            "        Layer (type)               Output Shape         Param #\n",
            "================================================================\n",
            "            Linear-1                 [-1, 1000]         785,000\n",
            "              ReLU-2                 [-1, 1000]               0\n",
            "            Linear-3                 [-1, 1000]       1,001,000\n",
            "              ReLU-4                 [-1, 1000]               0\n",
            "            Linear-5                   [-1, 10]          10,010\n",
            "================================================================\n",
            "Total params: 1,796,010\n",
            "Trainable params: 1,796,010\n",
            "Non-trainable params: 0\n",
            "----------------------------------------------------------------\n",
            "Input size (MB): 0.00\n",
            "Forward/backward pass size (MB): 0.03\n",
            "Params size (MB): 6.85\n",
            "Estimated Total Size (MB): 6.88\n",
            "----------------------------------------------------------------\n",
            "Training time for 1 epoch:\n",
            "28.820851802825928s\n"
          ],
          "name": "stdout"
        }
      ]
    },
    {
      "cell_type": "markdown",
      "metadata": {
        "id": "qPBbo6aF81sb"
      },
      "source": [
        " ## Question 7: Inception v3\n",
        " ###  We will be looking at image classification using Google’s Inception v3. To save you some trouble, I have written up the code for pre-processing an image into one that is RGB of size 299 x  299 pixels: the format that can be fed into Inception v3.\n"
      ]
    },
    {
      "cell_type": "code",
      "metadata": {
        "id": "kmmom0LSF3fN"
      },
      "source": [
        "from PIL import Image\n",
        "import requests\n",
        "from io import BytesIO\n",
        "\n",
        "# Some sample images:\n",
        "response = requests.get(\"https://i.imgur.com/a7WxbeF.jpg\")\n",
        "doggo_image = Image.open(BytesIO(response.content))\n",
        "response = requests.get(\"https://i.imgur.com/fb3WL67.jpg\")\n",
        "doggo2_image = Image.open(BytesIO(response.content))\n",
        "response = requests.get(\"https://i.imgur.com/vBNvCvh.jpg\")\n",
        "catto_image = Image.open(BytesIO(response.content))\n",
        "response = requests.get(\"https://i.imgur.com/tgN3sGJ.jpg\")\n",
        "catto2_image = Image.open(BytesIO(response.content))"
      ],
      "execution_count": null,
      "outputs": []
    },
    {
      "cell_type": "code",
      "metadata": {
        "id": "0NUZVBPA9E_u"
      },
      "source": [
        "import torchvision\n",
        "from torch import nn, optim\n",
        "from torchvision import transforms\n",
        "from PIL import Image\n",
        "\n",
        "imsize=299\n",
        "# Transformations taken from: \n",
        "# https://www.learnopencv.com/pytorch-for-beginners-image-classification-using-pre-trained-models/\n",
        "transform = transforms.Compose([\n",
        " transforms.Resize(imsize),\n",
        " transforms.CenterCrop(imsize),\n",
        " transforms.ToTensor(),\n",
        " transforms.Normalize(\n",
        " mean=[0.485, 0.456, 0.406],\n",
        " std=[0.229, 0.224, 0.225]\n",
        " )])\n",
        "\n",
        "# Pick your favorite image to open in the next line: \n",
        "response = requests.get(\"https://imgur.com/y0ySqNk.jpg\")\n",
        "catto2_image = Image.open(BytesIO(response.content))\n",
        "\n",
        "# To add an image to be opened, go to the left pane of the colab notebook,\n",
        "# select \"Files\", and upload the image there. "
      ],
      "execution_count": null,
      "outputs": []
    },
    {
      "cell_type": "code",
      "metadata": {
        "id": "x7YF279K-t8V"
      },
      "source": [
        "# 1. First, load the trained Inception v3 using the torchvision package.\n",
        "from torchvision.models import Inception3\n",
        "v3 = Inception3()"
      ],
      "execution_count": null,
      "outputs": []
    },
    {
      "cell_type": "code",
      "metadata": {
        "id": "74Winym-AsCV"
      },
      "source": [
        "# 2. Pick a cat or dog image of your choice. \n",
        "# After preprocessing the image using the code above, feed it into your loaded model.\n",
        "image = catto2_image\n",
        "im = transform(image).float()\n",
        "input_batch = torch.unsqueeze(im, 0)"
      ],
      "execution_count": null,
      "outputs": []
    },
    {
      "cell_type": "code",
      "metadata": {
        "id": "5NO9gQgLA4Kr"
      },
      "source": [
        "# 3. The output of inception v3 should be a 1000-element array of floats. \n",
        "# These correspond to the the probabilities of the image being classified as one\n",
        "# of 1000 possible classes of things."
      ],
      "execution_count": null,
      "outputs": []
    },
    {
      "cell_type": "code",
      "metadata": {
        "id": "HJ31H1WdA7Xw",
        "outputId": "985e9d53-f152-48d6-c621-4194a4b7e337",
        "colab": {
          "base_uri": "https://localhost:8080/",
          "height": 335
        }
      },
      "source": [
        "import json \n",
        "\n",
        "# 4. Go to files and add the imagenet_class_index.json you get from the\n",
        "# assignment page on canvas. Once you have that, the following code gives you\n",
        "# a dictionary mapping ints to their corresponding image classes.\n",
        "\n",
        "imagenetClasses = {int(idx): entry[1] for (idx, entry) in json.load(open('imagenet_class_index.json')).items()}\n",
        "\n",
        "# Using this, output:\n",
        "#    a) The 3 most likely objects that your image has been classified as\n",
        "#    b) Their corresponding percent likelihoods\n",
        "#    c) The image itself\n",
        "\n",
        "out = original_model(input_batch) \n",
        "percentage = torch.nn.functional.softmax(out, dim=1)[0] * 100\n",
        "indices = torch.topk(out, k=3, dim=1)[1][0]\n",
        "for i in range(3):\n",
        "  print(imagenetClasses[indices[i].item()], percentage[indices[i]].item())\n",
        "  \n",
        "import matplotlib.pyplot as plt\n",
        "img  = Image.open('cat.jpg')\n",
        "plt.imshow(img)"
      ],
      "execution_count": null,
      "outputs": [
        {
          "output_type": "stream",
          "text": [
            "polecat 8.62332534790039\n",
            "crayfish 3.5951104164123535\n",
            "weasel 3.519631862640381\n"
          ],
          "name": "stdout"
        },
        {
          "output_type": "execute_result",
          "data": {
            "text/plain": [
              "<matplotlib.image.AxesImage at 0x7ff6bc068160>"
            ]
          },
          "metadata": {
            "tags": []
          },
          "execution_count": 26
        },
        {
          "output_type": "display_data",
          "data": {
            "image/png": "[encoded data removed]",
            "text/plain": [
              "<Figure size 432x288 with 1 Axes>"
            ]
          },
          "metadata": {
            "tags": []
          }
        }
      ]
    },
    {
      "cell_type": "code",
      "metadata": {
        "id": "5Rq1g804BLv0"
      },
      "source": [
        "# Next, we are going to “do surgery” on inception v3. \n",
        "# We will try to see the activation of the intermediate layers.\n",
        "# Doing so requires us to slice up the inception v3 class.\n",
        "\n",
        "# I have provided some code to help you with this task: \n",
        "# Make sure you understand each line.\n",
        "\n",
        "original_model = torchvision.models.inception_v3(pretrained=True)\n",
        "original_model.eval()\n",
        "\n",
        "class InceptionSlice(nn.Module):\n",
        "    def __init__(self):\n",
        "        super(InceptionSlice, self).__init__()\n",
        "        \n",
        "        # Modify the part below:\n",
        "        # Decide at what layer to cut off of Inception v3 \n",
        "        # to extract the activation of the layers\n",
        "        self.features = nn.Sequential(\n",
        "            #nn.Conv2d(1, 10, kernel_size=5),\n",
        "            #nn.Conv2d(10, 10, kernel_size=5),\n",
        "            #nn.Conv2d(10, 20, kernel_size=5),\n",
        "            *list(original_model.children())[:1]\n",
        "        )\n",
        "    def forward(self, x):\n",
        "        #x = F.relu(F.max_pool2d(self.features(x), 2))\n",
        "        #x = F.relu(F.max_pool2d(self.features(x), 2))\n",
        "        #x = F.relu(F.max_pool2d(self.features_drop(self.features(x)), 2))\n",
        "        #x = self.features(x)\n",
        "        return x\n",
        "new_model = InceptionSlice()\n",
        "new_model.eval()\n",
        "out = new_model(input_batch)\n",
        "\n",
        "\n",
        "# Using this, see which filters are most active at the first convolutional layer.\n"
      ],
      "execution_count": null,
      "outputs": []
    },
    {
      "cell_type": "code",
      "metadata": {
        "id": "eqqdnSV7B_9F",
        "outputId": "c8efed28-2c6c-41ca-821f-80efe4eb70bf",
        "colab": {
          "base_uri": "https://localhost:8080/",
          "height": 34
        }
      },
      "source": [
        "# What is the dimension of the output of InceptionSlice? \n",
        "list(out.size())\n",
        "\n",
        "# What does each number represent?\n",
        "# [Batch, Channels, Height, Width]"
      ],
      "execution_count": null,
      "outputs": [
        {
          "output_type": "execute_result",
          "data": {
            "text/plain": [
              "[1, 3, 299, 299]"
            ]
          },
          "metadata": {
            "tags": []
          },
          "execution_count": 125
        }
      ]
    },
    {
      "cell_type": "code",
      "metadata": {
        "id": "7l4zuAxxCcE8",
        "outputId": "a4b3b85b-dff5-4aae-ca50-923429ee2691",
        "colab": {
          "base_uri": "https://localhost:8080/",
          "height": 284
        }
      },
      "source": [
        "# Input your favorite image and see how the different convolutional filters respond to it. \n",
        "# Display (as an image using imshow) the response of 3-5 of these filters. \n",
        "\n",
        "img  = Image.open('cat.jpg')\n",
        "plt.imshow(img)\n",
        "\n",
        "# different convolutional figures may highlight edges or colors in certain directions\n",
        "# each following convolutional figure should highlight something new"
      ],
      "execution_count": null,
      "outputs": [
        {
          "output_type": "execute_result",
          "data": {
            "text/plain": [
              "<matplotlib.image.AxesImage at 0x7ff6adf7b710>"
            ]
          },
          "metadata": {
            "tags": []
          },
          "execution_count": 102
        },
        {
          "output_type": "display_data",
          "data": {
            "image/png": "[encoded data removed]",
            "text/plain": [
              "<Figure size 432x288 with 1 Axes>"
            ]
          },
          "metadata": {
            "tags": []
          }
        }
      ]
    },
    {
      "cell_type": "code",
      "metadata": {
        "id": "8xB_p6zUCg1E",
        "outputId": "ef7f68a3-9ac5-4e14-c281-89f4ccd4b842",
        "colab": {
          "base_uri": "https://localhost:8080/",
          "height": 357
        }
      },
      "source": [
        "# Look at the next convolutional layer and display it (again for 3-5 different filters). \n",
        "# This will involve modifying the InceptionSlice code \n",
        "# How is it different from the first convolutional layer?\n",
        "# Do the same now for the third convolutional layer.\n",
        "\n",
        " \n",
        "# I'm missing a bit of understanding. For partial credit, \n",
        "# allow me to create and show what they might look like\n",
        "\n",
        "conv1 = nn.Conv2d(3, 1, 3)\n",
        "weight = conv1.weight.data.numpy()\n",
        "plt.imshow(weight[0, ...])\n",
        "\n",
        "conv2 = nn.Conv2d(3, 1, 3)\n",
        "weight = conv2.weight.data.numpy()\n",
        "plt.imshow(weight[0, ...])\n",
        "\n",
        "conv3 = nn.Conv2d(3, 1, 3)\n",
        "weight = conv3.weight.data.numpy()\n",
        "plt.imshow(weight[0, ...])"
      ],
      "execution_count": null,
      "outputs": [
        {
          "output_type": "stream",
          "text": [
            "Clipping input data to the valid range for imshow with RGB data ([0..1] for floats or [0..255] for integers).\n",
            "Clipping input data to the valid range for imshow with RGB data ([0..1] for floats or [0..255] for integers).\n",
            "Clipping input data to the valid range for imshow with RGB data ([0..1] for floats or [0..255] for integers).\n"
          ],
          "name": "stderr"
        },
        {
          "output_type": "execute_result",
          "data": {
            "text/plain": [
              "<matplotlib.image.AxesImage at 0x7ff6aded3a58>"
            ]
          },
          "metadata": {
            "tags": []
          },
          "execution_count": 100
        },
        {
          "output_type": "display_data",
          "data": {
            "image/png": "[encoded data removed]",
            "text/plain": [
              "<Figure size 432x288 with 1 Axes>"
            ]
          },
          "metadata": {
            "tags": []
          }
        }
      ]
    }
  ]
}